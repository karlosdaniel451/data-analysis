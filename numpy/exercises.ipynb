{
 "cells": [
  {
   "cell_type": "markdown",
   "id": "10c8b023-0230-4879-ac30-c73847d91e0f",
   "metadata": {},
   "source": [
    "## Source: https://github.com/rougier/numpy-100/"
   ]
  },
  {
   "cell_type": "markdown",
   "id": "f983e81c-203c-4b79-9448-ea6a96150456",
   "metadata": {},
   "source": [
    "#### 1. Import the numpy package under the name `np` (★☆☆)"
   ]
  },
  {
   "cell_type": "code",
   "execution_count": 2,
   "id": "67c4b303-c395-42e1-bf61-92a5876500b2",
   "metadata": {},
   "outputs": [
    {
     "data": {
      "text/plain": [
       "<module 'numpy' from '/home/karlos/miniconda3/envs/pydata-book/lib/python3.10/site-packages/numpy/__init__.py'>"
      ]
     },
     "execution_count": 2,
     "metadata": {},
     "output_type": "execute_result"
    }
   ],
   "source": [
    "import numpy as np\n",
    "\n",
    "np"
   ]
  },
  {
   "cell_type": "markdown",
   "id": "bdc4e6a1-7465-4206-a7c3-e6349f4f1492",
   "metadata": {},
   "source": [
    "#### 2. Print the numpy version and the configuration (★☆☆)"
   ]
  },
  {
   "cell_type": "code",
   "execution_count": 19,
   "id": "be47302e-31ae-4838-9ac8-0eee08864552",
   "metadata": {},
   "outputs": [
    {
     "name": "stdout",
     "output_type": "stream",
     "text": [
      "1.23.3\n",
      "blas_info:\n",
      "    libraries = ['cblas', 'blas', 'cblas', 'blas']\n",
      "    library_dirs = ['/home/karlos/miniconda3/envs/pydata-book/lib']\n",
      "    include_dirs = ['/home/karlos/miniconda3/envs/pydata-book/include']\n",
      "    language = c\n",
      "    define_macros = [('HAVE_CBLAS', None)]\n",
      "blas_opt_info:\n",
      "    define_macros = [('NO_ATLAS_INFO', 1), ('HAVE_CBLAS', None)]\n",
      "    libraries = ['cblas', 'blas', 'cblas', 'blas']\n",
      "    library_dirs = ['/home/karlos/miniconda3/envs/pydata-book/lib']\n",
      "    include_dirs = ['/home/karlos/miniconda3/envs/pydata-book/include']\n",
      "    language = c\n",
      "lapack_info:\n",
      "    libraries = ['lapack', 'blas', 'lapack', 'blas']\n",
      "    library_dirs = ['/home/karlos/miniconda3/envs/pydata-book/lib']\n",
      "    language = f77\n",
      "lapack_opt_info:\n",
      "    libraries = ['lapack', 'blas', 'lapack', 'blas', 'cblas', 'blas', 'cblas', 'blas']\n",
      "    library_dirs = ['/home/karlos/miniconda3/envs/pydata-book/lib']\n",
      "    language = c\n",
      "    define_macros = [('NO_ATLAS_INFO', 1), ('HAVE_CBLAS', None)]\n",
      "    include_dirs = ['/home/karlos/miniconda3/envs/pydata-book/include']\n",
      "Supported SIMD extensions in this NumPy install:\n",
      "    baseline = SSE,SSE2,SSE3\n",
      "    found = SSSE3,SSE41,POPCNT,SSE42,AVX,F16C,FMA3,AVX2\n",
      "    not found = AVX512F,AVX512CD,AVX512_KNL,AVX512_KNM,AVX512_SKX,AVX512_CLX,AVX512_CNL,AVX512_ICL\n",
      "None\n"
     ]
    }
   ],
   "source": [
    "print(np.__version__)\n",
    "print(np.show_config())"
   ]
  },
  {
   "cell_type": "markdown",
   "id": "45dc5fdf-b603-4d02-b77a-ef955f0795f1",
   "metadata": {},
   "source": [
    "#### 3. Create a null vector of size 10 (★☆☆)"
   ]
  },
  {
   "cell_type": "code",
   "execution_count": 4,
   "id": "269bfe26-aa3e-47f8-a02c-f960a10737d7",
   "metadata": {},
   "outputs": [
    {
     "data": {
      "text/plain": [
       "array([0., 0., 0., 0., 0., 0., 0., 0., 0., 0.])"
      ]
     },
     "execution_count": 4,
     "metadata": {},
     "output_type": "execute_result"
    }
   ],
   "source": [
    "a = np.zeros(10)\n",
    "\n",
    "a"
   ]
  },
  {
   "cell_type": "markdown",
   "id": "55af123d-c8ea-4e74-8d39-87e59490df35",
   "metadata": {},
   "source": [
    "#### 4. How to find the memory size of any array (★☆☆)"
   ]
  },
  {
   "cell_type": "code",
   "execution_count": 5,
   "id": "83c98f38-c615-4972-bab4-21e180362cf1",
   "metadata": {},
   "outputs": [
    {
     "data": {
      "text/plain": [
       "800"
      ]
     },
     "execution_count": 5,
     "metadata": {},
     "output_type": "execute_result"
    }
   ],
   "source": [
    "a = np.zeros(100)\n",
    "\n",
    "a.nbytes  ## 800 == 100 * 8"
   ]
  },
  {
   "cell_type": "markdown",
   "id": "312ea64b-0890-42ef-baa9-53077ca55011",
   "metadata": {},
   "source": [
    "#### 5. How to get the documentation of the numpy add function from the command line? (★☆☆)"
   ]
  },
  {
   "cell_type": "code",
   "execution_count": 6,
   "id": "fba4ce2a-bf12-4593-aacd-ef45c6a04481",
   "metadata": {},
   "outputs": [
    {
     "name": "stdout",
     "output_type": "stream",
     "text": [
      "random(size=None)\n",
      "\n",
      "Return random floats in the half-open interval [0.0, 1.0). Alias for\n",
      "`random_sample` to ease forward-porting to the new random API.\n"
     ]
    }
   ],
   "source": [
    "## np.info or trough IPython introspection\n",
    "\n",
    "np.info(np.random.random)"
   ]
  },
  {
   "cell_type": "code",
   "execution_count": 20,
   "id": "09298f66-2915-42ca-be26-15a61e1cb707",
   "metadata": {},
   "outputs": [
    {
     "name": "stdout",
     "output_type": "stream",
     "text": [
      "\u001b[0;31mDocstring:\u001b[0m\n",
      "random(size=None)\n",
      "\n",
      "Return random floats in the half-open interval [0.0, 1.0). Alias for\n",
      "`random_sample` to ease forward-porting to the new random API.\n",
      "\u001b[0;31mType:\u001b[0m      builtin_function_or_method\n"
     ]
    }
   ],
   "source": [
    "# Or\n",
    "\n",
    "np.random.random?"
   ]
  },
  {
   "cell_type": "markdown",
   "id": "6124cf80-1052-4fe7-8f70-45fa6147a98c",
   "metadata": {},
   "source": [
    "#### 6. Create a null vector of size 10 but the fifth value which is 1 (★☆☆)"
   ]
  },
  {
   "cell_type": "code",
   "execution_count": 8,
   "id": "0209c8a9-1b00-4d38-a791-b287e1e1ab19",
   "metadata": {},
   "outputs": [
    {
     "data": {
      "text/plain": [
       "array([0., 0., 0., 0., 1., 0., 0., 0., 0., 0.])"
      ]
     },
     "execution_count": 8,
     "metadata": {},
     "output_type": "execute_result"
    }
   ],
   "source": [
    "a = np.zeros(10)\n",
    "a[4] = 1\n",
    "\n",
    "a"
   ]
  },
  {
   "cell_type": "markdown",
   "id": "63d51183-6e74-4d7b-afce-9bd74c624815",
   "metadata": {},
   "source": [
    "#### 7. Create a vector with values ranging from 10 to 49 (★☆☆)"
   ]
  },
  {
   "cell_type": "code",
   "execution_count": 9,
   "id": "9482fab4-d210-40f3-b216-1a7cca0c935f",
   "metadata": {},
   "outputs": [
    {
     "data": {
      "text/plain": [
       "array([10, 11, 12, 13, 14, 15, 16, 17, 18, 19, 20, 21, 22, 23, 24, 25, 26,\n",
       "       27, 28, 29, 30, 31, 32, 33, 34, 35, 36, 37, 38, 39, 40, 41, 42, 43,\n",
       "       44, 45, 46, 47, 48, 49])"
      ]
     },
     "execution_count": 9,
     "metadata": {},
     "output_type": "execute_result"
    }
   ],
   "source": [
    "a = np.arange(10, 50)\n",
    "\n",
    "a"
   ]
  },
  {
   "cell_type": "markdown",
   "id": "b4e50e21-df86-4255-a02f-888de8f8e168",
   "metadata": {},
   "source": [
    "#### 8. Reverse a vector (first element becomes last) (★☆☆)"
   ]
  },
  {
   "cell_type": "code",
   "execution_count": 10,
   "id": "19f21aab-6698-47ac-b996-f637c4225ba1",
   "metadata": {},
   "outputs": [
    {
     "name": "stdout",
     "output_type": "stream",
     "text": [
      "[ 1  2  3  4  5  6  7  8  9 10]\n",
      "[10  9  8  7  6  5  4  3  2  1]\n"
     ]
    }
   ],
   "source": [
    "a = np.arange(1, 11)\n",
    "\n",
    "print(a)\n",
    "\n",
    "a = a[::-1]\n",
    "\n",
    "print(a)"
   ]
  },
  {
   "cell_type": "markdown",
   "id": "19205626-c927-4451-b35f-104003f1320c",
   "metadata": {},
   "source": [
    "#### 9. Create a 3x3 matrix with values ranging from 0 to 8 (★☆☆)"
   ]
  },
  {
   "cell_type": "code",
   "execution_count": 11,
   "id": "d6f993c0-a479-473f-9752-6b6ba7005aca",
   "metadata": {},
   "outputs": [
    {
     "data": {
      "text/plain": [
       "array([[0, 1, 2],\n",
       "       [3, 4, 5],\n",
       "       [6, 7, 8]])"
      ]
     },
     "execution_count": 11,
     "metadata": {},
     "output_type": "execute_result"
    }
   ],
   "source": [
    "matrix_3x3 = np.arange(9).reshape(3, 3)\n",
    "\n",
    "matrix_3x3"
   ]
  },
  {
   "cell_type": "markdown",
   "id": "b6ab9dab-923c-41cf-b46e-b664848e3047",
   "metadata": {},
   "source": [
    "#### 10. Find indices of non-zero elements from [1,2,0,0,4,0] (★☆☆)"
   ]
  },
  {
   "cell_type": "code",
   "execution_count": 12,
   "id": "a4cb9ea2-7bcf-4ccd-b7ff-28c6896b01cf",
   "metadata": {},
   "outputs": [
    {
     "data": {
      "text/plain": [
       "(array([0, 1, 4]),)"
      ]
     },
     "execution_count": 12,
     "metadata": {},
     "output_type": "execute_result"
    }
   ],
   "source": [
    "a = np.array([1, 2, 0, 0, 4, 0])\n",
    "\n",
    "indices_of_non_zero_elements = np.nonzero(a != 0)\n",
    "\n",
    "indices_of_non_zero_elements"
   ]
  },
  {
   "cell_type": "markdown",
   "id": "3b4a7b76-8e32-4a7e-b661-75efb0a3786d",
   "metadata": {},
   "source": [
    "#### 11. Create a 3x3 identity matrix (★☆☆)"
   ]
  },
  {
   "cell_type": "code",
   "execution_count": 13,
   "id": "aaf9b29d-e6d1-4752-8294-8f449e92bb69",
   "metadata": {},
   "outputs": [
    {
     "data": {
      "text/plain": [
       "array([[1., 0., 0.],\n",
       "       [0., 1., 0.],\n",
       "       [0., 0., 1.]])"
      ]
     },
     "execution_count": 13,
     "metadata": {},
     "output_type": "execute_result"
    }
   ],
   "source": [
    "identity_matrix_3x3 = np.eye(3)\n",
    "\n",
    "identity_matrix_3x3"
   ]
  },
  {
   "cell_type": "markdown",
   "id": "8f31e0de-5ba0-48b2-9650-a2d4a46f56de",
   "metadata": {},
   "source": [
    "#### 12. Create a 3x3x3 array with random values (★☆☆)"
   ]
  },
  {
   "cell_type": "code",
   "execution_count": 14,
   "id": "c245b346-69f4-4fb7-912b-d43b69b505f5",
   "metadata": {},
   "outputs": [
    {
     "name": "stdout",
     "output_type": "stream",
     "text": [
      "[[[-0.10754618 -0.09605857 -0.27639388]\n",
      "  [ 0.26848683  2.33201316  0.50955832]\n",
      "  [ 0.14491663  0.18650524  0.72925813]]\n",
      "\n",
      " [[-1.20028652 -0.11056982  0.08777806]\n",
      "  [ 0.01876635  0.41837588  0.89972846]\n",
      "  [-1.24507575  0.5727807  -1.51463893]]\n",
      "\n",
      " [[-1.44691454 -0.10259617 -0.62008803]\n",
      "  [-0.64187449  0.93428547  1.26107254]\n",
      "  [-0.54229001  1.0279294  -0.70805881]]]\n",
      "\n",
      "\n",
      "\n",
      "[[[0.09116132 0.7962023  0.44304649]\n",
      "  [0.58054999 0.8000735  0.62641654]\n",
      "  [0.91267696 0.40447258 0.60092198]]\n",
      "\n",
      " [[0.3435858  0.44135582 0.98567749]\n",
      "  [0.35950338 0.29531179 0.41691793]\n",
      "  [0.09878014 0.65642559 0.9092522 ]]\n",
      "\n",
      " [[0.803904   0.41720703 0.55972106]\n",
      "  [0.2279389  0.45001822 0.0963655 ]\n",
      "  [0.9590468  0.5844648  0.05625942]]]\n"
     ]
    }
   ],
   "source": [
    "a = np.random.standard_normal(3**3).reshape(3, 3, 3)  # Standard Normal distribution\n",
    "print(a, end='\\n\\n\\n\\n')\n",
    "\n",
    "b = np.random.uniform(low=0, high=1, size=3**3).reshape(3, 3, 3)  # Uniform distribution\n",
    "print(b)"
   ]
  },
  {
   "cell_type": "markdown",
   "id": "b3fcd11b-6b85-46d5-981a-5f1c2cb82566",
   "metadata": {},
   "source": [
    "#### 13. Create a 10x10 array with random values and find the minimum and maximum values (★☆☆)"
   ]
  },
  {
   "cell_type": "code",
   "execution_count": 15,
   "id": "0e089d61-8394-4e3c-b3f7-2c8a7ad23274",
   "metadata": {},
   "outputs": [
    {
     "name": "stdout",
     "output_type": "stream",
     "text": [
      "[[39 43 68 36 77 44 64 41 66 49]\n",
      " [27 24 48 28 96 44 72 46  9 95]\n",
      " [13 33 77 88 92 39 87 69 63 67]\n",
      " [28 29 48 88 69 81 69 27 66 11]\n",
      " [47 61 14 26 46 67 60 27  1 70]\n",
      " [80 80 51 29 77 69 13 44 11 51]\n",
      " [63 67 46 52 98 40 95 98 71 33]\n",
      " [39 53 30 99 98 38 36 63 61 42]\n",
      " [49 86 32  6 16 99 15  8 85 48]\n",
      " [11 61 25 79  4  5 40  0 86 23]]\n",
      "0\n",
      "99\n"
     ]
    }
   ],
   "source": [
    "array_10x10 = np.random.uniform(low=0, high=100, size=10*10).reshape(10, 10).astype('int32')\n",
    "\n",
    "print(array_10x10)\n",
    "print(array_10x10.min())\n",
    "print(array_10x10.max())"
   ]
  },
  {
   "cell_type": "markdown",
   "id": "58db17d5-9b04-412c-91d7-8934900fca66",
   "metadata": {},
   "source": [
    "#### 14. Create a random vector of size 30 and find the mean value (★☆☆)"
   ]
  },
  {
   "cell_type": "code",
   "execution_count": 16,
   "id": "271ba84f-ad4d-49c7-880f-515a5b147621",
   "metadata": {},
   "outputs": [
    {
     "data": {
      "text/plain": [
       "0.5896146895930964"
      ]
     },
     "execution_count": 16,
     "metadata": {},
     "output_type": "execute_result"
    }
   ],
   "source": [
    "a = np.random.random(30)\n",
    "\n",
    "a.mean()"
   ]
  },
  {
   "cell_type": "markdown",
   "id": "89ee050d-4d8f-4803-adaf-68aa1a40ef54",
   "metadata": {},
   "source": [
    "#### 15. Create a 2d array with 1 on the border and 0 inside (★☆☆)"
   ]
  },
  {
   "cell_type": "code",
   "execution_count": 21,
   "id": "29cfba82-a6e1-46ea-a023-c3334c28b410",
   "metadata": {},
   "outputs": [
    {
     "name": "stdout",
     "output_type": "stream",
     "text": [
      "[[1 1 1 1 1]\n",
      " [1 0 0 0 1]\n",
      " [1 0 0 0 1]\n",
      " [1 0 0 0 1]\n",
      " [1 1 1 1 1]]\n"
     ]
    }
   ],
   "source": [
    "from functools import reduce\n",
    "\n",
    "# Create shape tuple and evaluate its product\n",
    "shape = (5, 5)\n",
    "shape_product = reduce(lambda x, y: x * y, shape)\n",
    "\n",
    "a = np.zeros(shape, dtype=np.int32)\n",
    "\n",
    "a[0] = 1  # Fill first line\n",
    "a[a.shape[0] - 1] = 1  ## Fill last line\n",
    "\n",
    "a[:, 0] = 1  ## Fill first column\n",
    "a[:, a.shape[1] - 1] = 1  ## Fill last column\n",
    "\n",
    "print(a)"
   ]
  },
  {
   "cell_type": "markdown",
   "id": "e338076c-6603-457f-bdd3-a3039a5a4724",
   "metadata": {},
   "source": [
    "#### 16. How to add a border (filled with 0's) around an existing array? (★☆☆)"
   ]
  },
  {
   "cell_type": "code",
   "execution_count": 18,
   "id": "725b6187-8422-4033-8c23-62af2fe587cf",
   "metadata": {},
   "outputs": [
    {
     "name": "stdout",
     "output_type": "stream",
     "text": [
      "[[1 2 3]\n",
      " [4 5 6]\n",
      " [7 8 9]]\n",
      "\n",
      "[[0 0 0]\n",
      " [0 5 0]\n",
      " [0 0 0]]\n"
     ]
    }
   ],
   "source": [
    "a = np.arange(1, 10).reshape(3, 3)\n",
    "print(a, end='\\n\\n')\n",
    "\n",
    "a[0] = 0  # Fill first line\n",
    "a[a.shape[0] - 1] = 0  ## Fill last line\n",
    "\n",
    "a[:, 0] = 0 ## Fill first column\n",
    "a[:, a.shape[1] - 1] = 0 # Fill last column\n",
    "\n",
    "print(a)"
   ]
  }
 ],
 "metadata": {
  "kernelspec": {
   "display_name": "Python 3.10.6 ('pydata-book')",
   "language": "python",
   "name": "python3"
  },
  "language_info": {
   "codemirror_mode": {
    "name": "ipython",
    "version": 3
   },
   "file_extension": ".py",
   "mimetype": "text/x-python",
   "name": "python",
   "nbconvert_exporter": "python",
   "pygments_lexer": "ipython3",
   "version": "3.10.6"
  },
  "vscode": {
   "interpreter": {
    "hash": "d66dd9d047cdb8551000d0b01391852b62deb5000975b45c54e6e59b07e38393"
   }
  }
 },
 "nbformat": 4,
 "nbformat_minor": 5
}
