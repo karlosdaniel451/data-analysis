{
 "cells": [
  {
   "cell_type": "markdown",
   "id": "10c8b023-0230-4879-ac30-c73847d91e0f",
   "metadata": {},
   "source": [
    "## Source: https://github.com/rougier/numpy-100/"
   ]
  },
  {
   "cell_type": "markdown",
   "id": "f983e81c-203c-4b79-9448-ea6a96150456",
   "metadata": {},
   "source": [
    "#### 1. Import the numpy package under the name `np` (★☆☆)"
   ]
  },
  {
   "cell_type": "code",
   "execution_count": 56,
   "id": "67c4b303-c395-42e1-bf61-92a5876500b2",
   "metadata": {},
   "outputs": [
    {
     "data": {
      "text/plain": [
       "<module 'numpy' from 'C:\\\\Users\\\\karlos.silva\\\\Anaconda3\\\\envs\\\\pydata-book\\\\lib\\\\site-packages\\\\numpy\\\\__init__.py'>"
      ]
     },
     "execution_count": 56,
     "metadata": {},
     "output_type": "execute_result"
    }
   ],
   "source": [
    "import numpy as np\n",
    "\n",
    "np"
   ]
  },
  {
   "cell_type": "markdown",
   "id": "bdc4e6a1-7465-4206-a7c3-e6349f4f1492",
   "metadata": {},
   "source": [
    "#### 2. Print the numpy version and the configuration (★☆☆)"
   ]
  },
  {
   "cell_type": "code",
   "execution_count": 57,
   "id": "be47302e-31ae-4838-9ac8-0eee08864552",
   "metadata": {},
   "outputs": [
    {
     "name": "stdout",
     "output_type": "stream",
     "text": [
      "1.23.3\n",
      "blas_info:\n",
      "    libraries = ['cblas', 'blas', 'cblas', 'blas', 'cblas', 'blas']\n",
      "    library_dirs = ['C:/Users/karlos.silva/Anaconda3/envs/pydata-book\\\\Library\\\\lib']\n",
      "    include_dirs = ['C:/Users/karlos.silva/Anaconda3/envs/pydata-book\\\\Library\\\\include']\n",
      "    language = f77\n",
      "    define_macros = [('HAVE_CBLAS', None)]\n",
      "blas_opt_info:\n",
      "    define_macros = [('NO_ATLAS_INFO', 1), ('HAVE_CBLAS', None)]\n",
      "    libraries = ['cblas', 'blas', 'cblas', 'blas', 'cblas', 'blas']\n",
      "    library_dirs = ['C:/Users/karlos.silva/Anaconda3/envs/pydata-book\\\\Library\\\\lib']\n",
      "    include_dirs = ['C:/Users/karlos.silva/Anaconda3/envs/pydata-book\\\\Library\\\\include']\n",
      "    language = f77\n",
      "lapack_info:\n",
      "    libraries = ['lapack', 'blas', 'lapack', 'blas']\n",
      "    library_dirs = ['C:/Users/karlos.silva/Anaconda3/envs/pydata-book\\\\Library\\\\lib']\n",
      "    language = f77\n",
      "lapack_opt_info:\n",
      "    libraries = ['lapack', 'blas', 'lapack', 'blas', 'cblas', 'blas', 'cblas', 'blas', 'cblas', 'blas']\n",
      "    library_dirs = ['C:/Users/karlos.silva/Anaconda3/envs/pydata-book\\\\Library\\\\lib']\n",
      "    language = f77\n",
      "    define_macros = [('NO_ATLAS_INFO', 1), ('HAVE_CBLAS', None)]\n",
      "    include_dirs = ['C:/Users/karlos.silva/Anaconda3/envs/pydata-book\\\\Library\\\\include']\n",
      "Supported SIMD extensions in this NumPy install:\n",
      "    baseline = SSE,SSE2,SSE3\n",
      "    found = SSSE3,SSE41,POPCNT,SSE42,AVX,F16C,FMA3,AVX2\n",
      "    not found = AVX512F,AVX512CD,AVX512_SKX,AVX512_CLX,AVX512_CNL,AVX512_ICL\n",
      "None\n"
     ]
    }
   ],
   "source": [
    "print(np.__version__)\n",
    "print(np.show_config())"
   ]
  },
  {
   "cell_type": "markdown",
   "id": "45dc5fdf-b603-4d02-b77a-ef955f0795f1",
   "metadata": {},
   "source": [
    "#### 3. Create a null vector of size 10 (★☆☆)"
   ]
  },
  {
   "cell_type": "code",
   "execution_count": 58,
   "id": "269bfe26-aa3e-47f8-a02c-f960a10737d7",
   "metadata": {},
   "outputs": [
    {
     "data": {
      "text/plain": [
       "array([0., 0., 0., 0., 0., 0., 0., 0., 0., 0.])"
      ]
     },
     "execution_count": 58,
     "metadata": {},
     "output_type": "execute_result"
    }
   ],
   "source": [
    "a = np.zeros(10)\n",
    "\n",
    "a"
   ]
  },
  {
   "cell_type": "markdown",
   "id": "55af123d-c8ea-4e74-8d39-87e59490df35",
   "metadata": {},
   "source": [
    "#### 4. How to find the memory size of any array (★☆☆)"
   ]
  },
  {
   "cell_type": "code",
   "execution_count": 59,
   "id": "83c98f38-c615-4972-bab4-21e180362cf1",
   "metadata": {},
   "outputs": [
    {
     "data": {
      "text/plain": [
       "800"
      ]
     },
     "execution_count": 59,
     "metadata": {},
     "output_type": "execute_result"
    }
   ],
   "source": [
    "a = np.zeros(100)\n",
    "\n",
    "a.nbytes  ## 800 == 100 * 8"
   ]
  },
  {
   "cell_type": "markdown",
   "id": "312ea64b-0890-42ef-baa9-53077ca55011",
   "metadata": {},
   "source": [
    "#### 5. How to get the documentation of the numpy add function from the command line? (★☆☆)"
   ]
  },
  {
   "cell_type": "code",
   "execution_count": 60,
   "id": "fba4ce2a-bf12-4593-aacd-ef45c6a04481",
   "metadata": {},
   "outputs": [
    {
     "name": "stdout",
     "output_type": "stream",
     "text": [
      "random(size=None)\n",
      "\n",
      "Return random floats in the half-open interval [0.0, 1.0). Alias for\n",
      "`random_sample` to ease forward-porting to the new random API.\n"
     ]
    }
   ],
   "source": [
    "## np.info or trough IPython introspection\n",
    "\n",
    "np.info(np.random.random)"
   ]
  },
  {
   "cell_type": "code",
   "execution_count": 61,
   "id": "09298f66-2915-42ca-be26-15a61e1cb707",
   "metadata": {},
   "outputs": [
    {
     "data": {
      "text/plain": [
       "\u001b[1;31mDocstring:\u001b[0m\n",
       "random(size=None)\n",
       "\n",
       "Return random floats in the half-open interval [0.0, 1.0). Alias for\n",
       "`random_sample` to ease forward-porting to the new random API.\n",
       "\u001b[1;31mType:\u001b[0m      builtin_function_or_method\n"
      ]
     },
     "metadata": {},
     "output_type": "display_data"
    }
   ],
   "source": [
    "# Or\n",
    "\n",
    "np.random.random?"
   ]
  },
  {
   "cell_type": "markdown",
   "id": "6124cf80-1052-4fe7-8f70-45fa6147a98c",
   "metadata": {},
   "source": [
    "#### 6. Create a null vector of size 10 but the fifth value which is 1 (★☆☆)"
   ]
  },
  {
   "cell_type": "code",
   "execution_count": 62,
   "id": "0209c8a9-1b00-4d38-a791-b287e1e1ab19",
   "metadata": {},
   "outputs": [
    {
     "data": {
      "text/plain": [
       "array([0., 0., 0., 0., 1., 0., 0., 0., 0., 0.])"
      ]
     },
     "execution_count": 62,
     "metadata": {},
     "output_type": "execute_result"
    }
   ],
   "source": [
    "a = np.zeros(10)\n",
    "a[4] = 1\n",
    "\n",
    "a"
   ]
  },
  {
   "cell_type": "markdown",
   "id": "63d51183-6e74-4d7b-afce-9bd74c624815",
   "metadata": {},
   "source": [
    "#### 7. Create a vector with values ranging from 10 to 49 (★☆☆)"
   ]
  },
  {
   "cell_type": "code",
   "execution_count": 63,
   "id": "9482fab4-d210-40f3-b216-1a7cca0c935f",
   "metadata": {},
   "outputs": [
    {
     "data": {
      "text/plain": [
       "array([10, 11, 12, 13, 14, 15, 16, 17, 18, 19, 20, 21, 22, 23, 24, 25, 26,\n",
       "       27, 28, 29, 30, 31, 32, 33, 34, 35, 36, 37, 38, 39, 40, 41, 42, 43,\n",
       "       44, 45, 46, 47, 48, 49])"
      ]
     },
     "execution_count": 63,
     "metadata": {},
     "output_type": "execute_result"
    }
   ],
   "source": [
    "a = np.arange(10, 50)\n",
    "\n",
    "a"
   ]
  },
  {
   "cell_type": "markdown",
   "id": "b4e50e21-df86-4255-a02f-888de8f8e168",
   "metadata": {},
   "source": [
    "#### 8. Reverse a vector (first element becomes last) (★☆☆)"
   ]
  },
  {
   "cell_type": "code",
   "execution_count": 64,
   "id": "19f21aab-6698-47ac-b996-f637c4225ba1",
   "metadata": {},
   "outputs": [
    {
     "name": "stdout",
     "output_type": "stream",
     "text": [
      "[ 1  2  3  4  5  6  7  8  9 10]\n",
      "[10  9  8  7  6  5  4  3  2  1]\n"
     ]
    }
   ],
   "source": [
    "a = np.arange(1, 11)\n",
    "\n",
    "print(a)\n",
    "\n",
    "a = a[::-1]\n",
    "\n",
    "print(a)"
   ]
  },
  {
   "cell_type": "markdown",
   "id": "19205626-c927-4451-b35f-104003f1320c",
   "metadata": {},
   "source": [
    "#### 9. Create a 3x3 matrix with values ranging from 0 to 8 (★☆☆)"
   ]
  },
  {
   "cell_type": "code",
   "execution_count": 65,
   "id": "d6f993c0-a479-473f-9752-6b6ba7005aca",
   "metadata": {},
   "outputs": [
    {
     "data": {
      "text/plain": [
       "array([[0, 1, 2],\n",
       "       [3, 4, 5],\n",
       "       [6, 7, 8]])"
      ]
     },
     "execution_count": 65,
     "metadata": {},
     "output_type": "execute_result"
    }
   ],
   "source": [
    "matrix_3x3 = np.arange(9).reshape(3, 3)\n",
    "\n",
    "matrix_3x3"
   ]
  },
  {
   "cell_type": "markdown",
   "id": "b6ab9dab-923c-41cf-b46e-b664848e3047",
   "metadata": {},
   "source": [
    "#### 10. Find indices of non-zero elements from [1,2,0,0,4,0] (★☆☆)"
   ]
  },
  {
   "cell_type": "code",
   "execution_count": 66,
   "id": "a4cb9ea2-7bcf-4ccd-b7ff-28c6896b01cf",
   "metadata": {},
   "outputs": [
    {
     "data": {
      "text/plain": [
       "(array([0, 1, 4], dtype=int64),)"
      ]
     },
     "execution_count": 66,
     "metadata": {},
     "output_type": "execute_result"
    }
   ],
   "source": [
    "a = np.array([1, 2, 0, 0, 4, 0])\n",
    "\n",
    "indices_of_non_zero_elements = np.nonzero(a != 0)\n",
    "\n",
    "indices_of_non_zero_elements"
   ]
  },
  {
   "cell_type": "markdown",
   "id": "3b4a7b76-8e32-4a7e-b661-75efb0a3786d",
   "metadata": {},
   "source": [
    "#### 11. Create a 3x3 identity matrix (★☆☆)"
   ]
  },
  {
   "cell_type": "code",
   "execution_count": 67,
   "id": "aaf9b29d-e6d1-4752-8294-8f449e92bb69",
   "metadata": {},
   "outputs": [
    {
     "data": {
      "text/plain": [
       "array([[1., 0., 0.],\n",
       "       [0., 1., 0.],\n",
       "       [0., 0., 1.]])"
      ]
     },
     "execution_count": 67,
     "metadata": {},
     "output_type": "execute_result"
    }
   ],
   "source": [
    "identity_matrix_3x3 = np.eye(3)\n",
    "\n",
    "identity_matrix_3x3"
   ]
  },
  {
   "cell_type": "markdown",
   "id": "8f31e0de-5ba0-48b2-9650-a2d4a46f56de",
   "metadata": {},
   "source": [
    "#### 12. Create a 3x3x3 array with random values (★☆☆)"
   ]
  },
  {
   "cell_type": "code",
   "execution_count": 68,
   "id": "c245b346-69f4-4fb7-912b-d43b69b505f5",
   "metadata": {},
   "outputs": [
    {
     "name": "stdout",
     "output_type": "stream",
     "text": [
      "[[[-7.82271017e-01  2.97823927e-01 -1.14213756e+00]\n",
      "  [ 1.56653283e+00  1.49958582e+00 -1.28906030e+00]\n",
      "  [ 1.08636023e+00 -1.40726360e+00  3.33623491e-01]]\n",
      "\n",
      " [[ 9.81297628e-01 -7.25438181e-01  7.08937951e-01]\n",
      "  [-4.36559348e-04 -4.53177269e-01  1.10379175e-01]\n",
      "  [ 2.73952526e-01 -4.09370507e-01  1.65844141e-01]]\n",
      "\n",
      " [[-3.86998563e-01 -2.61954983e+00 -5.91219375e-02]\n",
      "  [-9.80135977e-01  1.06376881e-01  3.99159478e-01]\n",
      "  [-1.44471290e+00 -1.55723088e+00  8.50376577e-01]]]\n",
      "\n",
      "\n",
      "\n",
      "[[[0.10516951 0.34613311 0.05200194]\n",
      "  [0.07589753 0.97685497 0.77657538]\n",
      "  [0.66162895 0.01991299 0.67421817]]\n",
      "\n",
      " [[0.49519811 0.28152514 0.99727427]\n",
      "  [0.95250956 0.05851441 0.73735383]\n",
      "  [0.45355471 0.99893284 0.53351615]]\n",
      "\n",
      " [[0.72912492 0.78486735 0.40062719]\n",
      "  [0.91474453 0.23055895 0.80928136]\n",
      "  [0.45130865 0.79412207 0.21037819]]]\n"
     ]
    }
   ],
   "source": [
    "a = np.random.standard_normal(3**3).reshape(3, 3, 3)  # Standard Normal distribution\n",
    "print(a, end='\\n\\n\\n\\n')\n",
    "\n",
    "b = np.random.uniform(low=0, high=1, size=3**3).reshape(3, 3, 3)  # Uniform distribution\n",
    "print(b)"
   ]
  },
  {
   "cell_type": "markdown",
   "id": "b3fcd11b-6b85-46d5-981a-5f1c2cb82566",
   "metadata": {},
   "source": [
    "#### 13. Create a 10x10 array with random values and find the minimum and maximum values (★☆☆)"
   ]
  },
  {
   "cell_type": "code",
   "execution_count": 69,
   "id": "0e089d61-8394-4e3c-b3f7-2c8a7ad23274",
   "metadata": {},
   "outputs": [
    {
     "name": "stdout",
     "output_type": "stream",
     "text": [
      "[[18  0 26 19 44 82 90 62 19 55]\n",
      " [72 77 33 38 59 20 55 14 70 23]\n",
      " [74 58 18 81 14 54 37 81 19 68]\n",
      " [83 26 32  0 47 73 49 60 93 21]\n",
      " [99 90 10  2 94 26 13 38 30 66]\n",
      " [97 80 79 73 47 58 54 19 50  2]\n",
      " [60 94 60 25 97 19 24 33 19 31]\n",
      " [24 62 93 96 38 37 24  7 41 81]\n",
      " [62 97 57 10 19  4 18 40 64 33]\n",
      " [21 95 81  5 61  5 91 95 80 45]]\n",
      "0\n",
      "99\n"
     ]
    }
   ],
   "source": [
    "array_10x10 = np.random.uniform(low=0, high=100, size=10*10).reshape(10, 10).astype('int32')\n",
    "\n",
    "print(array_10x10)\n",
    "print(array_10x10.min())\n",
    "print(array_10x10.max())"
   ]
  },
  {
   "cell_type": "markdown",
   "id": "58db17d5-9b04-412c-91d7-8934900fca66",
   "metadata": {},
   "source": [
    "#### 14. Create a random vector of size 30 and find the mean value (★☆☆)"
   ]
  },
  {
   "cell_type": "code",
   "execution_count": 70,
   "id": "271ba84f-ad4d-49c7-880f-515a5b147621",
   "metadata": {},
   "outputs": [
    {
     "data": {
      "text/plain": [
       "0.4936640081640873"
      ]
     },
     "execution_count": 70,
     "metadata": {},
     "output_type": "execute_result"
    }
   ],
   "source": [
    "a = np.random.random(30)\n",
    "\n",
    "a.mean()"
   ]
  },
  {
   "cell_type": "markdown",
   "id": "89ee050d-4d8f-4803-adaf-68aa1a40ef54",
   "metadata": {},
   "source": [
    "#### 15. Create a 2d array with 1 on the border and 0 inside (★☆☆)"
   ]
  },
  {
   "cell_type": "code",
   "execution_count": 71,
   "id": "29cfba82-a6e1-46ea-a023-c3334c28b410",
   "metadata": {},
   "outputs": [
    {
     "name": "stdout",
     "output_type": "stream",
     "text": [
      "[[1 1 1 1 1]\n",
      " [1 0 0 0 1]\n",
      " [1 0 0 0 1]\n",
      " [1 0 0 0 1]\n",
      " [1 1 1 1 1]]\n"
     ]
    }
   ],
   "source": [
    "from functools import reduce\n",
    "\n",
    "# Create shape tuple and evaluate its product\n",
    "shape = (5, 5)\n",
    "shape_product = reduce(lambda x, y: x * y, shape)\n",
    "\n",
    "a = np.zeros(shape, dtype=np.int32)\n",
    "\n",
    "a[0] = 1  # Fill first line\n",
    "a[a.shape[0] - 1] = 1  ## Fill last line\n",
    "\n",
    "a[:, 0] = 1  ## Fill first column\n",
    "a[:, a.shape[1] - 1] = 1  ## Fill last column\n",
    "\n",
    "print(a)"
   ]
  },
  {
   "cell_type": "markdown",
   "id": "e338076c-6603-457f-bdd3-a3039a5a4724",
   "metadata": {},
   "source": [
    "#### 16. How to add a border (filled with 0's) around an existing array? (★☆☆)"
   ]
  },
  {
   "cell_type": "code",
   "execution_count": 72,
   "id": "725b6187-8422-4033-8c23-62af2fe587cf",
   "metadata": {},
   "outputs": [
    {
     "name": "stdout",
     "output_type": "stream",
     "text": [
      "[[1 2 3]\n",
      " [4 5 6]\n",
      " [7 8 9]]\n",
      "\n",
      "[[0 0 0]\n",
      " [0 5 0]\n",
      " [0 0 0]]\n"
     ]
    }
   ],
   "source": [
    "a = np.arange(1, 10).reshape(3, 3)\n",
    "print(a, end='\\n\\n')\n",
    "\n",
    "a[0] = 0  # Fill first line\n",
    "a[a.shape[0] - 1] = 0  ## Fill last line\n",
    "\n",
    "a[:, 0] = 0 ## Fill first column\n",
    "a[:, a.shape[1] - 1] = 0 # Fill last column\n",
    "\n",
    "print(a)"
   ]
  },
  {
   "cell_type": "markdown",
   "id": "1253754a-bef2-4452-95ce-0f32abd3b9fa",
   "metadata": {},
   "source": [
    "#### 18. Create a 5x5 matrix with values 1,2,3,4 just below the diagonal (★☆☆)"
   ]
  },
  {
   "cell_type": "code",
   "execution_count": 73,
   "id": "2250e6c0-4202-476d-8b7d-b2ee574b24a3",
   "metadata": {},
   "outputs": [
    {
     "name": "stdout",
     "output_type": "stream",
     "text": [
      "[[0. 0. 0. 0. 0.]\n",
      " [0. 0. 0. 0. 0.]\n",
      " [0. 0. 0. 0. 0.]\n",
      " [0. 0. 0. 0. 0.]\n",
      " [0. 0. 0. 0. 0.]]\n"
     ]
    }
   ],
   "source": [
    "matrix_5x5 = np.zeros(shape=(5,5))\n",
    "print(matrix_5x5)"
   ]
  },
  {
   "cell_type": "markdown",
   "id": "663ac45d-2db0-4418-b8b8-6884cf1c61d5",
   "metadata": {},
   "source": [
    "#### 19. Create a 8x8 matrix and fill it with a checkerboard pattern (★☆☆)"
   ]
  },
  {
   "cell_type": "code",
   "execution_count": 84,
   "id": "e312ad80-caa7-4973-900c-a86066c9d6cd",
   "metadata": {},
   "outputs": [
    {
     "name": "stdout",
     "output_type": "stream",
     "text": [
      "[[0 0 0 0 0 0 0 0]\n",
      " [0 0 0 0 0 0 0 0]\n",
      " [0 0 0 0 0 0 0 0]\n",
      " [0 0 0 0 0 0 0 0]\n",
      " [0 0 0 0 0 0 0 0]\n",
      " [0 0 0 0 0 0 0 0]\n",
      " [0 0 0 0 0 0 0 0]\n",
      " [0 0 0 0 0 0 0 0]]\n",
      "\n",
      "[[1 0 1 0 1 0 1 0]\n",
      " [0 1 0 1 0 1 0 1]\n",
      " [1 0 1 0 1 0 1 0]\n",
      " [0 1 0 1 0 1 0 1]\n",
      " [1 0 1 0 1 0 1 0]\n",
      " [0 1 0 1 0 1 0 1]\n",
      " [1 0 1 0 1 0 1 0]\n",
      " [0 1 0 1 0 1 0 1]]\n"
     ]
    }
   ],
   "source": [
    "matrix_8x8 = np.zeros(shape=(8,8), dtype=np.int32)\n",
    "print(matrix_8x8, end='\\n\\n')\n",
    "\n",
    "matrix_8x8[::2, ::2] = 1\n",
    "matrix_8x8[1::2, 1::2] = 1\n",
    "\n",
    "print(matrix_8x8)"
   ]
  },
  {
   "cell_type": "markdown",
   "id": "1c9cf686-64d7-4d76-8d12-36e1248510e0",
   "metadata": {},
   "source": [
    "#### 20. Consider a (6,7,8) shape array, what is the index (x,y,z) of the 100th element? (★☆☆)"
   ]
  },
  {
   "cell_type": "markdown",
   "id": "d47dc0c2-f25e-4d62-9e8c-bb024abbb739",
   "metadata": {},
   "source": [
    "#### 24. Multiply a 5x3 matrix by a 3x2 matrix (real matrix product) (★☆☆)"
   ]
  },
  {
   "cell_type": "code",
   "execution_count": 107,
   "id": "5c5dbcb1-ea8a-4701-822b-39df28b48a20",
   "metadata": {},
   "outputs": [
    {
     "name": "stdout",
     "output_type": "stream",
     "text": [
      "[[65 21 61]\n",
      " [13 86 76]\n",
      " [15 74 96]\n",
      " [ 0 21 34]\n",
      " [18 34 67]]\n",
      "\n",
      "[[82 34]\n",
      " [28 70]\n",
      " [37 98]]\n",
      "\n",
      "[[ 8175  9658]\n",
      " [ 6286 13910]\n",
      " [ 6854 15098]\n",
      " [ 1846  4802]\n",
      " [ 4907  9558]]\n"
     ]
    }
   ],
   "source": [
    "matrix_5x3 = np.random.randint(low=0, high=101, size=(5, 3))\n",
    "matrix_3x2 = np.random.randint(low=0, high=101, size=(3, 2))\n",
    "\n",
    "print(matrix_5x3, end='\\n\\n')\n",
    "print(matrix_3x2, end='\\n\\n')\n",
    "\n",
    "matrix_product = np.matmul(matrix_5x3, matrix_3x2)\n",
    "\n",
    "print(matrix_product)"
   ]
  },
  {
   "cell_type": "markdown",
   "id": "94767b70-194f-4b18-b074-6802efaca9bd",
   "metadata": {},
   "source": [
    "#### 25. Given a 1D array, negate all elements which are between 3 and 8, in place. (★☆☆)"
   ]
  },
  {
   "cell_type": "code",
   "execution_count": 117,
   "id": "6e877c8a-168d-4b13-be99-7fa5455ae7bc",
   "metadata": {},
   "outputs": [
    {
     "name": "stdout",
     "output_type": "stream",
     "text": [
      "[ 5  0  8  0  8  0  7  2  4  2  4  7  8 11  6  3  0  1  9 11]\n",
      "\n",
      "[-5  0 -8  0 -8  0 -7  2 -4  2 -4 -7 -8 11 -6 -3  0  1  9 11]\n"
     ]
    }
   ],
   "source": [
    "array = np.random.randint(low=0, high=12, size=20)\n",
    "print(array, end='\\n\\n')\n",
    "\n",
    "condition = (3 <= array) & (array <= 8)\n",
    "\n",
    "array[condition] *= -1\n",
    "\n",
    "print(array)"
   ]
  },
  {
   "cell_type": "markdown",
   "id": "72f0f21d-aa07-44e5-8519-4efbad4ae036",
   "metadata": {},
   "source": [
    "#### 26. What is the output of the following script? (★☆☆)\n",
    "```python\n",
    "# Author: Jake VanderPlas\n",
    "\n",
    "print(sum(range(5),-1))\n",
    "from numpy import *\n",
    "print(sum(range(5),-1))\n",
    "```\n"
   ]
  },
  {
   "cell_type": "markdown",
   "id": "30e452b2-ebd6-4379-9afe-fcb7dc06c468",
   "metadata": {},
   "source": [
    "-1 + 0 + 1 + 2 + 3 + 4 = 9 and\n",
    "0 + 1 + 2 + 3 + 4 = 10"
   ]
  },
  {
   "cell_type": "markdown",
   "id": "86395ded-4542-4e3b-985f-1d14bdb3ec62",
   "metadata": {},
   "source": [
    "#### 30. How to find common values between two arrays? (★☆☆)"
   ]
  },
  {
   "cell_type": "code",
   "execution_count": 151,
   "id": "6f70d981-3ae5-46f4-a0ab-1ca56f3d96fb",
   "metadata": {},
   "outputs": [
    {
     "name": "stdout",
     "output_type": "stream",
     "text": [
      "[1, 2, 5, 5, 8, 9, 10, 12, 14, 14]\n",
      "\n",
      "[2, 3, 5, 5, 5, 6, 7, 7, 8, 12]\n",
      "\n",
      "[2, 5, 8, 12]\n"
     ]
    }
   ],
   "source": [
    "array_1 = np.random.randint(low=0, high=15, size=10)\n",
    "array_2 = np.random.randint(low=0, high=15, size=10)\n",
    "\n",
    "print(sorted(array_1), end='\\n\\n')\n",
    "print(sorted(array_2), end='\\n\\n')\n",
    "\n",
    "intersection = np.intersect1d(array_1, array_2)\n",
    "\n",
    "print(sorted(intersection))"
   ]
  }
 ],
 "metadata": {
  "kernelspec": {
   "display_name": "Python 3 (ipykernel)",
   "language": "python",
   "name": "python3"
  },
  "language_info": {
   "codemirror_mode": {
    "name": "ipython",
    "version": 3
   },
   "file_extension": ".py",
   "mimetype": "text/x-python",
   "name": "python",
   "nbconvert_exporter": "python",
   "pygments_lexer": "ipython3",
   "version": "3.10.6"
  },
  "vscode": {
   "interpreter": {
    "hash": "d66dd9d047cdb8551000d0b01391852b62deb5000975b45c54e6e59b07e38393"
   }
  }
 },
 "nbformat": 4,
 "nbformat_minor": 5
}
