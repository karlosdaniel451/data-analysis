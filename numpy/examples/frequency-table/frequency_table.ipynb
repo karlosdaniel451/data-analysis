{
 "cells": [
  {
   "cell_type": "code",
   "execution_count": 1,
   "metadata": {},
   "outputs": [
    {
     "data": {
      "text/plain": [
       "(1000,)"
      ]
     },
     "execution_count": 1,
     "metadata": {},
     "output_type": "execute_result"
    }
   ],
   "source": [
    "import numpy as np\n",
    "\n",
    "numbers = np.random.randint(low=0, high=100, size=1000)\n",
    "numbers.shape"
   ]
  },
  {
   "cell_type": "code",
   "execution_count": 2,
   "metadata": {},
   "outputs": [
    {
     "name": "stdout",
     "output_type": "stream",
     "text": [
      "[44 45 59 42 50 56 62 59 41 56 43 40 56 55 48 56 54 42 47 45]\n",
      "[  0   5  10  15  20  25  30  35  40  45  50  55  60  65  70  75  80  85\n",
      "  90  95 100]\n"
     ]
    }
   ],
   "source": [
    "frequencies, bin_edges = np.histogram(numbers, bins=range(0, 101, 5))\n",
    "\n",
    "print(frequencies)\n",
    "print(bin_edges)"
   ]
  },
  {
   "cell_type": "code",
   "execution_count": 3,
   "metadata": {},
   "outputs": [
    {
     "name": "stdout",
     "output_type": "stream",
     "text": [
      "Intervals | Frequency\n",
      "0-5 | 44\n",
      "5-10 | 45\n",
      "10-15 | 59\n",
      "15-20 | 42\n",
      "20-25 | 50\n",
      "25-30 | 56\n",
      "30-35 | 62\n",
      "35-40 | 59\n",
      "40-45 | 41\n",
      "45-50 | 56\n",
      "50-55 | 43\n",
      "55-60 | 40\n",
      "60-65 | 56\n",
      "65-70 | 55\n",
      "70-75 | 48\n",
      "75-80 | 56\n",
      "80-85 | 54\n",
      "85-90 | 42\n",
      "90-95 | 47\n",
      "95-100 | 45\n"
     ]
    }
   ],
   "source": [
    "print('Intervals | Frequency')\n",
    "\n",
    "for index, frequency in enumerate(frequencies):\n",
    "    print(f'{bin_edges[index]}-{bin_edges[index + 1]} | {frequency}')"
   ]
  }
 ],
 "metadata": {
  "kernelspec": {
   "display_name": "Python 3.10.6 ('pydata-book')",
   "language": "python",
   "name": "python3"
  },
  "language_info": {
   "codemirror_mode": {
    "name": "ipython",
    "version": 3
   },
   "file_extension": ".py",
   "mimetype": "text/x-python",
   "name": "python",
   "nbconvert_exporter": "python",
   "pygments_lexer": "ipython3",
   "version": "3.10.6"
  },
  "orig_nbformat": 4,
  "vscode": {
   "interpreter": {
    "hash": "f479aef4171c4ae67573cf990cfd80854b5a421e02073ee64f273d9c55c41ffd"
   }
  }
 },
 "nbformat": 4,
 "nbformat_minor": 2
}
