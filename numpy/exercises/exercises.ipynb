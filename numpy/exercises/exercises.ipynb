{
 "cells": [
  {
   "cell_type": "markdown",
   "id": "10c8b023-0230-4879-ac30-c73847d91e0f",
   "metadata": {},
   "source": [
    "## Source: https://github.com/rougier/numpy-100/"
   ]
  },
  {
   "cell_type": "markdown",
   "id": "f983e81c-203c-4b79-9448-ea6a96150456",
   "metadata": {},
   "source": [
    "#### 1. Import the numpy package under the name `np` (★☆☆)"
   ]
  },
  {
   "cell_type": "code",
   "execution_count": null,
   "id": "67c4b303-c395-42e1-bf61-92a5876500b2",
   "metadata": {},
   "outputs": [],
   "source": [
    "import numpy as np\n",
    "\n",
    "np"
   ]
  },
  {
   "cell_type": "markdown",
   "id": "bdc4e6a1-7465-4206-a7c3-e6349f4f1492",
   "metadata": {},
   "source": [
    "#### 2. Print the numpy version and the configuration (★☆☆)"
   ]
  },
  {
   "cell_type": "code",
   "execution_count": null,
   "id": "be47302e-31ae-4838-9ac8-0eee08864552",
   "metadata": {},
   "outputs": [],
   "source": [
    "print(np.__version__)\n",
    "print(np.show_config())"
   ]
  },
  {
   "cell_type": "markdown",
   "id": "45dc5fdf-b603-4d02-b77a-ef955f0795f1",
   "metadata": {},
   "source": [
    "#### 3. Create a null vector of size 10 (★☆☆)"
   ]
  },
  {
   "cell_type": "code",
   "execution_count": null,
   "id": "269bfe26-aa3e-47f8-a02c-f960a10737d7",
   "metadata": {},
   "outputs": [],
   "source": [
    "a = np.zeros(10)\n",
    "\n",
    "a"
   ]
  },
  {
   "cell_type": "markdown",
   "id": "55af123d-c8ea-4e74-8d39-87e59490df35",
   "metadata": {},
   "source": [
    "#### 4. How to find the memory size of any array (★☆☆)"
   ]
  },
  {
   "cell_type": "code",
   "execution_count": null,
   "id": "83c98f38-c615-4972-bab4-21e180362cf1",
   "metadata": {},
   "outputs": [],
   "source": [
    "a = np.zeros(100)\n",
    "\n",
    "a.nbytes  ## 800 == 100 * 8"
   ]
  },
  {
   "cell_type": "markdown",
   "id": "312ea64b-0890-42ef-baa9-53077ca55011",
   "metadata": {},
   "source": [
    "#### 5. How to get the documentation of the numpy add function from the command line? (★☆☆)"
   ]
  },
  {
   "cell_type": "code",
   "execution_count": null,
   "id": "fba4ce2a-bf12-4593-aacd-ef45c6a04481",
   "metadata": {},
   "outputs": [],
   "source": [
    "## np.info or trough IPython introspection\n",
    "\n",
    "np.info(np.random.random)"
   ]
  },
  {
   "cell_type": "code",
   "execution_count": null,
   "id": "09298f66-2915-42ca-be26-15a61e1cb707",
   "metadata": {},
   "outputs": [],
   "source": [
    "# Or\n",
    "\n",
    "np.random.random?"
   ]
  },
  {
   "cell_type": "markdown",
   "id": "6124cf80-1052-4fe7-8f70-45fa6147a98c",
   "metadata": {},
   "source": [
    "#### 6. Create a null vector of size 10 but the fifth value which is 1 (★☆☆)"
   ]
  },
  {
   "cell_type": "code",
   "execution_count": null,
   "id": "0209c8a9-1b00-4d38-a791-b287e1e1ab19",
   "metadata": {},
   "outputs": [],
   "source": [
    "a = np.zeros(10)\n",
    "a[4] = 1\n",
    "\n",
    "a"
   ]
  },
  {
   "cell_type": "markdown",
   "id": "63d51183-6e74-4d7b-afce-9bd74c624815",
   "metadata": {},
   "source": [
    "#### 7. Create a vector with values ranging from 10 to 49 (★☆☆)"
   ]
  },
  {
   "cell_type": "code",
   "execution_count": null,
   "id": "9482fab4-d210-40f3-b216-1a7cca0c935f",
   "metadata": {},
   "outputs": [],
   "source": [
    "a = np.arange(10, 50)\n",
    "\n",
    "a"
   ]
  },
  {
   "cell_type": "markdown",
   "id": "b4e50e21-df86-4255-a02f-888de8f8e168",
   "metadata": {},
   "source": [
    "#### 8. Reverse a vector (first element becomes last) (★☆☆)"
   ]
  },
  {
   "cell_type": "code",
   "execution_count": null,
   "id": "19f21aab-6698-47ac-b996-f637c4225ba1",
   "metadata": {},
   "outputs": [],
   "source": [
    "a = np.arange(1, 11)\n",
    "\n",
    "print(a)\n",
    "\n",
    "a = a[::-1]\n",
    "\n",
    "print(a)"
   ]
  },
  {
   "cell_type": "markdown",
   "id": "19205626-c927-4451-b35f-104003f1320c",
   "metadata": {},
   "source": [
    "#### 9. Create a 3x3 matrix with values ranging from 0 to 8 (★☆☆)"
   ]
  },
  {
   "cell_type": "code",
   "execution_count": null,
   "id": "d6f993c0-a479-473f-9752-6b6ba7005aca",
   "metadata": {},
   "outputs": [],
   "source": [
    "matrix_3x3 = np.arange(9).reshape(3, 3)\n",
    "\n",
    "matrix_3x3"
   ]
  },
  {
   "cell_type": "markdown",
   "id": "b6ab9dab-923c-41cf-b46e-b664848e3047",
   "metadata": {},
   "source": [
    "#### 10. Find indices of non-zero elements from [1,2,0,0,4,0] (★☆☆)"
   ]
  },
  {
   "cell_type": "code",
   "execution_count": null,
   "id": "a4cb9ea2-7bcf-4ccd-b7ff-28c6896b01cf",
   "metadata": {},
   "outputs": [],
   "source": [
    "a = np.array([1, 2, 0, 0, 4, 0])\n",
    "\n",
    "indices_of_non_zero_elements = np.nonzero(a != 0)\n",
    "\n",
    "indices_of_non_zero_elements"
   ]
  },
  {
   "cell_type": "markdown",
   "id": "3b4a7b76-8e32-4a7e-b661-75efb0a3786d",
   "metadata": {},
   "source": [
    "#### 11. Create a 3x3 identity matrix (★☆☆)"
   ]
  },
  {
   "cell_type": "code",
   "execution_count": null,
   "id": "aaf9b29d-e6d1-4752-8294-8f449e92bb69",
   "metadata": {},
   "outputs": [],
   "source": [
    "identity_matrix_3x3 = np.eye(3)\n",
    "\n",
    "identity_matrix_3x3"
   ]
  },
  {
   "cell_type": "markdown",
   "id": "8f31e0de-5ba0-48b2-9650-a2d4a46f56de",
   "metadata": {},
   "source": [
    "#### 12. Create a 3x3x3 array with random values (★☆☆)"
   ]
  },
  {
   "cell_type": "code",
   "execution_count": null,
   "id": "c245b346-69f4-4fb7-912b-d43b69b505f5",
   "metadata": {},
   "outputs": [],
   "source": [
    "a = np.random.standard_normal(3**3).reshape(3, 3, 3)  # Standard Normal distribution\n",
    "print(a, end='\\n\\n\\n\\n')\n",
    "\n",
    "b = np.random.uniform(low=0, high=1, size=3**3).reshape(3, 3, 3)  # Uniform distribution\n",
    "print(b)"
   ]
  },
  {
   "cell_type": "markdown",
   "id": "b3fcd11b-6b85-46d5-981a-5f1c2cb82566",
   "metadata": {},
   "source": [
    "#### 13. Create a 10x10 array with random values and find the minimum and maximum values (★☆☆)"
   ]
  },
  {
   "cell_type": "code",
   "execution_count": null,
   "id": "0e089d61-8394-4e3c-b3f7-2c8a7ad23274",
   "metadata": {},
   "outputs": [],
   "source": [
    "array_10x10 = np.random.uniform(low=0, high=100, size=10*10).reshape(10, 10).astype('int32')\n",
    "\n",
    "print(array_10x10)\n",
    "print(array_10x10.min())\n",
    "print(array_10x10.max())"
   ]
  },
  {
   "cell_type": "markdown",
   "id": "58db17d5-9b04-412c-91d7-8934900fca66",
   "metadata": {},
   "source": [
    "#### 14. Create a random vector of size 30 and find the mean value (★☆☆)"
   ]
  },
  {
   "cell_type": "code",
   "execution_count": null,
   "id": "271ba84f-ad4d-49c7-880f-515a5b147621",
   "metadata": {},
   "outputs": [],
   "source": [
    "a = np.random.random(30)\n",
    "\n",
    "a.mean()"
   ]
  },
  {
   "cell_type": "markdown",
   "id": "89ee050d-4d8f-4803-adaf-68aa1a40ef54",
   "metadata": {},
   "source": [
    "#### 15. Create a 2d array with 1 on the border and 0 inside (★☆☆)"
   ]
  },
  {
   "cell_type": "code",
   "execution_count": null,
   "id": "29cfba82-a6e1-46ea-a023-c3334c28b410",
   "metadata": {},
   "outputs": [],
   "source": [
    "from functools import reduce\n",
    "\n",
    "# Create shape tuple and evaluate its product\n",
    "shape = (5, 5)\n",
    "shape_product = reduce(lambda x, y: x * y, shape)\n",
    "\n",
    "a = np.zeros(shape, dtype=np.int32)\n",
    "\n",
    "a[0] = 1  # Fill first line\n",
    "a[a.shape[0] - 1] = 1  ## Fill last line\n",
    "\n",
    "a[:, 0] = 1  ## Fill first column\n",
    "a[:, a.shape[1] - 1] = 1  ## Fill last column\n",
    "\n",
    "print(a)"
   ]
  },
  {
   "cell_type": "markdown",
   "id": "e338076c-6603-457f-bdd3-a3039a5a4724",
   "metadata": {},
   "source": [
    "#### 16. How to add a border (filled with 0's) around an existing array? (★☆☆)"
   ]
  },
  {
   "cell_type": "code",
   "execution_count": null,
   "id": "725b6187-8422-4033-8c23-62af2fe587cf",
   "metadata": {},
   "outputs": [],
   "source": [
    "a = np.arange(1, 10).reshape(3, 3)\n",
    "print(a, end='\\n\\n')\n",
    "\n",
    "a[0] = 0  # Fill first line\n",
    "a[a.shape[0] - 1] = 0  ## Fill last line\n",
    "\n",
    "a[:, 0] = 0 ## Fill first column\n",
    "a[:, a.shape[1] - 1] = 0 # Fill last column\n",
    "\n",
    "print(a)"
   ]
  },
  {
   "cell_type": "markdown",
   "id": "1253754a-bef2-4452-95ce-0f32abd3b9fa",
   "metadata": {},
   "source": [
    "#### 18. Create a 5x5 matrix with values 1,2,3,4 just below the diagonal (★☆☆)"
   ]
  },
  {
   "cell_type": "code",
   "execution_count": null,
   "id": "2250e6c0-4202-476d-8b7d-b2ee574b24a3",
   "metadata": {},
   "outputs": [],
   "source": [
    "matrix_5x5 = np.zeros(shape=(5,5))\n",
    "print(matrix_5x5)"
   ]
  },
  {
   "cell_type": "markdown",
   "id": "663ac45d-2db0-4418-b8b8-6884cf1c61d5",
   "metadata": {},
   "source": [
    "#### 19. Create a 8x8 matrix and fill it with a checkerboard pattern (★☆☆)"
   ]
  },
  {
   "cell_type": "code",
   "execution_count": null,
   "id": "e312ad80-caa7-4973-900c-a86066c9d6cd",
   "metadata": {},
   "outputs": [],
   "source": [
    "matrix_8x8 = np.zeros(shape=(8,8), dtype=np.int32)\n",
    "print(matrix_8x8, end='\\n\\n')\n",
    "\n",
    "matrix_8x8[::2, ::2] = 1\n",
    "matrix_8x8[1::2, 1::2] = 1\n",
    "\n",
    "print(matrix_8x8)"
   ]
  },
  {
   "cell_type": "markdown",
   "id": "1c9cf686-64d7-4d76-8d12-36e1248510e0",
   "metadata": {},
   "source": [
    "#### 20. Consider a (6,7,8) shape array, what is the index (x,y,z) of the 100th element? (★☆☆)"
   ]
  },
  {
   "cell_type": "markdown",
   "id": "d47dc0c2-f25e-4d62-9e8c-bb024abbb739",
   "metadata": {},
   "source": [
    "#### 24. Multiply a 5x3 matrix by a 3x2 matrix (real matrix product) (★☆☆)"
   ]
  },
  {
   "cell_type": "code",
   "execution_count": null,
   "id": "5c5dbcb1-ea8a-4701-822b-39df28b48a20",
   "metadata": {},
   "outputs": [],
   "source": [
    "matrix_5x3 = np.random.randint(low=0, high=101, size=(5, 3))\n",
    "matrix_3x2 = np.random.randint(low=0, high=101, size=(3, 2))\n",
    "\n",
    "print(matrix_5x3, end='\\n\\n')\n",
    "print(matrix_3x2, end='\\n\\n')\n",
    "\n",
    "matrix_product = np.matmul(matrix_5x3, matrix_3x2)\n",
    "\n",
    "print(matrix_product)"
   ]
  },
  {
   "cell_type": "markdown",
   "id": "94767b70-194f-4b18-b074-6802efaca9bd",
   "metadata": {},
   "source": [
    "#### 25. Given a 1D array, negate all elements which are between 3 and 8, in place. (★☆☆)"
   ]
  },
  {
   "cell_type": "code",
   "execution_count": null,
   "id": "6e877c8a-168d-4b13-be99-7fa5455ae7bc",
   "metadata": {},
   "outputs": [],
   "source": [
    "array = np.random.randint(low=0, high=12, size=20)\n",
    "print(array, end='\\n\\n')\n",
    "\n",
    "condition = (3 <= array) & (array <= 8)\n",
    "\n",
    "array[condition] *= -1\n",
    "\n",
    "print(array)"
   ]
  },
  {
   "cell_type": "markdown",
   "id": "72f0f21d-aa07-44e5-8519-4efbad4ae036",
   "metadata": {},
   "source": [
    "#### 26. What is the output of the following script? (★☆☆)\n",
    "```python\n",
    "# Author: Jake VanderPlas\n",
    "\n",
    "print(sum(range(5),-1))\n",
    "from numpy import *\n",
    "print(sum(range(5),-1))\n",
    "```\n"
   ]
  },
  {
   "cell_type": "markdown",
   "id": "30e452b2-ebd6-4379-9afe-fcb7dc06c468",
   "metadata": {},
   "source": [
    "-1 + 0 + 1 + 2 + 3 + 4 = 9 and\n",
    "0 + 1 + 2 + 3 + 4 = 10"
   ]
  },
  {
   "cell_type": "markdown",
   "id": "86395ded-4542-4e3b-985f-1d14bdb3ec62",
   "metadata": {},
   "source": [
    "#### 30. How to find common values between two arrays? (★☆☆)"
   ]
  },
  {
   "cell_type": "code",
   "execution_count": null,
   "id": "6f70d981-3ae5-46f4-a0ab-1ca56f3d96fb",
   "metadata": {},
   "outputs": [],
   "source": [
    "array_1 = np.random.randint(low=0, high=15, size=10)\n",
    "array_2 = np.random.randint(low=0, high=15, size=10)\n",
    "\n",
    "print(sorted(array_1), end='\\n\\n')\n",
    "print(sorted(array_2), end='\\n\\n')\n",
    "\n",
    "intersection = np.intersect1d(array_1, array_2)\n",
    "\n",
    "print(sorted(intersection))"
   ]
  },
  {
   "cell_type": "markdown",
   "id": "8a1f3123",
   "metadata": {},
   "source": [
    "#### 36. Extract the integer part of a random array of positive numbers using 4 different methods (★★☆)ndarray"
   ]
  },
  {
   "cell_type": "code",
   "execution_count": null,
   "id": "f2b3d4a9",
   "metadata": {},
   "outputs": [],
   "source": [
    "array = np.random.normal(loc=100, scale=3, size=10)\n",
    "print(array, end='\\n\\n')\n",
    "\n",
    "print(array // 1, end='\\n\\n')\n",
    "print(array.astype(np.int32), end='\\n\\n')\n",
    "print(np.trunc(array), end='\\n\\n')\n",
    "print(np.floor(array), end='\\n\\n')"
   ]
  },
  {
   "cell_type": "markdown",
   "id": "c4c14684",
   "metadata": {},
   "source": [
    "#### 37. Create a 5x5 matrix with row values ranging from 0 to 4 (★★☆)"
   ]
  },
  {
   "cell_type": "code",
   "execution_count": null,
   "id": "7401b10d",
   "metadata": {},
   "outputs": [],
   "source": [
    "matrix_5x5 = np.empty((5, 5), dtype=np.int32)\n",
    "matrix_5x5[:] = np.arange(5)\n",
    "matrix_5x5"
   ]
  },
  {
   "cell_type": "markdown",
   "id": "f7e44a18",
   "metadata": {},
   "source": [
    "#### 42. Consider two random array A and B, check if they are equal (★★☆)"
   ]
  },
  {
   "cell_type": "code",
   "execution_count": null,
   "id": "fd909528",
   "metadata": {},
   "outputs": [],
   "source": [
    "number_of_attempts = 0\n",
    "while True:\n",
    "    a = np.random.randint(low=1, high=11, size=5)\n",
    "    b = np.random.randint(low=1, high=11, size=5)\n",
    "\n",
    "    number_of_attempts += 1  # Final number of attempts should be around (high-low)**5 at average\n",
    "    if number_of_attempts % 10_000 == 0:\n",
    "        print(f'{number_of_attempts:_}')\n",
    "\n",
    "    if (a == b).all():\n",
    "        break\n",
    "\n",
    "print(a)\n",
    "print(b)\n",
    "print(number_of_attempts)\n"
   ]
  },
  {
   "cell_type": "code",
   "execution_count": null,
   "id": "1a7df29e",
   "metadata": {},
   "outputs": [],
   "source": [
    "number_of_simulations = 50\n",
    "array_number_of_attempts = np.empty(shape=number_of_simulations)\n",
    "\n",
    "for i in range(number_of_simulations):\n",
    "    number_of_attempts = 0\n",
    "    while True:\n",
    "        a = np.random.randint(low=1, high=11, size=4)\n",
    "        b = np.random.randint(low=1, high=11, size=4)\n",
    "\n",
    "        number_of_attempts += 1  # Final number of attempts should be around (high-low)**5 at average\n",
    "        if number_of_attempts % 10_000 == 0:\n",
    "            print(f'{number_of_attempts:_}')\n",
    "\n",
    "        if (a == b).all():\n",
    "            print(a)\n",
    "            print(b)\n",
    "            break\n",
    "    array_number_of_attempts[i] = number_of_attempts\n",
    "\n",
    "print(array_number_of_attempts.shape)\n",
    "print(f'{array_number_of_attempts.mean():_}')\n"
   ]
  },
  {
   "cell_type": "markdown",
   "id": "f2dbc997",
   "metadata": {},
   "source": [
    "#### 45. Create random vector of size 10 and replace the maximum value by 0 (★★☆)"
   ]
  },
  {
   "cell_type": "code",
   "execution_count": null,
   "id": "433d2e30",
   "metadata": {},
   "outputs": [],
   "source": [
    "array = np.random.random(size=10)\n",
    "print(array, end='\\n\\n')\n",
    "\n",
    "array[np.where(array == array.max())] = 0\n",
    "print(array)\n",
    "#### 48. Print the minimum and maximum representable value for each numpy scalar type (★★☆)"
   ]
  },
  {
   "cell_type": "markdown",
   "id": "70f23448",
   "metadata": {},
   "source": [
    "#### 48. Print the minimum and maximum representable value for each numpy scalar type (★★☆)"
   ]
  },
  {
   "cell_type": "code",
   "execution_count": null,
   "id": "208e0e85",
   "metadata": {},
   "outputs": [],
   "source": [
    "integer_types_to_be_examined = (np.int8, np.int16, np.int32, np.int64)\n",
    "\n",
    "for dtype in integer_types_to_be_examined:\n",
    "    print(np.iinfo(dtype).min, np.iinfo(dtype).max)\n",
    "print()\n",
    "\n",
    "float_types_to_be_examined = (np.float32, np.float64, np.longfloat)\n",
    "\n",
    "for dtype in float_types_to_be_examined:\n",
    "    print(np.finfo(dtype).min, np.finfo(dtype).max, np.finfo(dtype).eps)\n"
   ]
  },
  {
   "cell_type": "markdown",
   "id": "07a77825",
   "metadata": {},
   "source": [
    "#### 49. How to print all the values of an array? (★★☆)"
   ]
  },
  {
   "cell_type": "code",
   "execution_count": null,
   "id": "0da94b78",
   "metadata": {},
   "outputs": [],
   "source": [
    "array = np.arange(10)\n",
    "\n",
    "print(array)"
   ]
  },
  {
   "cell_type": "markdown",
   "id": "3257e257",
   "metadata": {},
   "source": [
    "#### 50. How to find the closest value (to a given scalar) in a vector? (★★☆)"
   ]
  },
  {
   "cell_type": "code",
   "execution_count": 8,
   "id": "f1d501e5",
   "metadata": {},
   "outputs": [
    {
     "name": "stdout",
     "output_type": "stream",
     "text": [
      "[2 6 9 6 3 5 2 3 9 8]\n",
      "0\n",
      "2\n"
     ]
    }
   ],
   "source": [
    "array = np.random.randint(low=1, high=11, size=10)\n",
    "print(array)\n",
    "\n",
    "scalar = np.random.randint(low=0, high=20)\n",
    "print(scalar)\n",
    "\n",
    "index_of_closest_value = np.abs(array - scalar).argmin()\n",
    "print(array[index_of_closest_value])"
   ]
  },
  {
   "cell_type": "markdown",
   "id": "3a36e84f",
   "metadata": {},
   "source": [
    "#### 55. What is the equivalent of enumerate for numpy arrays? (★★☆)"
   ]
  },
  {
   "cell_type": "code",
   "execution_count": null,
   "id": "41e531b4",
   "metadata": {},
   "outputs": [],
   "source": [
    "# Short answer: np.ndenumerate\n",
    "\n",
    "# Example\n",
    "\n",
    "array = np.arange(10)\n",
    "\n",
    "for index, value in np.ndenumerate(array):\n",
    "    print(index, value)\n",
    "print()\n",
    "\n",
    "matrix = np.random.random((3, 3))\n",
    "\n",
    "for index, value in np.ndenumerate(matrix):\n",
    "    print(index, value)"
   ]
  },
  {
   "cell_type": "markdown",
   "id": "1d8d58f2",
   "metadata": {},
   "source": [
    "#### 58. Subtract the mean of each row of a matrix (★★☆)"
   ]
  },
  {
   "cell_type": "code",
   "execution_count": null,
   "id": "99040ee6",
   "metadata": {},
   "outputs": [],
   "source": [
    "matrix = np.random.randint(low=0, high=10, size=(3, 3))\n",
    "print(matrix, matrix.dtype, end='\\n\\n')\n",
    "\n",
    "row_means = matrix.mean(axis=1)[:, np.newaxis]\n",
    "print(row_means, end='\\n\\n')\n",
    "\n",
    "matrix = matrix - row_means\n",
    "print(matrix, matrix.dtype)"
   ]
  },
  {
   "cell_type": "markdown",
   "id": "3fca58d4",
   "metadata": {},
   "source": [
    "#### 59. How to sort an array by the nth column? (★★☆)"
   ]
  },
  {
   "cell_type": "code",
   "execution_count": null,
   "id": "10570359",
   "metadata": {},
   "outputs": [],
   "source": [
    "matrix = np.random.randint(low=0, high=10, size=(5, 5))\n",
    "print(matrix, end='\\n\\n')\n",
    "\n",
    "column_index = np.random.randint(low=0, high=matrix.shape[1])\n",
    "print(f'{column_index = }\\n')\n",
    "\n",
    "matrix[:, column_index].sort()\n",
    "print(matrix)"
   ]
  },
  {
   "cell_type": "markdown",
   "id": "1216f81a",
   "metadata": {},
   "source": [
    "#### 60. How to tell if a given 2D array has null columns? (★★☆)"
   ]
  },
  {
   "cell_type": "code",
   "execution_count": null,
   "id": "940e67bc",
   "metadata": {},
   "outputs": [],
   "source": [
    "matrix = np.random.binomial(1, 0.3, (5, 5))\n",
    "print(matrix)\n",
    "\n",
    "matrix_has_null_column = ~(matrix.any(axis=0).all())\n",
    "print(f'{matrix_has_null_column = }')\n",
    "\n",
    "if matrix_has_null_column:\n",
    "    indices_of_null_columns = np.where(~(matrix.any(axis=0)))\n",
    "    print('indices of null columns: ', end='')\n",
    "    for index in indices_of_null_columns:\n",
    "        print(index, end=' ')"
   ]
  },
  {
   "cell_type": "markdown",
   "id": "36ba1c81",
   "metadata": {},
   "source": [
    "#### 64. Consider a given vector, how to add 1 to each element indexed by a second vector (be careful with repeated indices)? (★★★)"
   ]
  },
  {
   "cell_type": "code",
   "execution_count": 10,
   "id": "78e72d23",
   "metadata": {},
   "outputs": [
    {
     "name": "stdout",
     "output_type": "stream",
     "text": [
      "array = array([0, 1, 2, 3, 4])\n",
      "\n",
      "indices = array([0, 4, 3, 4, 4])\n",
      "\n",
      "Discarding repeated indices: [1 5 4 5 5]\n",
      "Not discarding repeated indices: [1 1 2 4 7]\n"
     ]
    }
   ],
   "source": [
    "array_length = 5\n",
    "\n",
    "array = np.arange(array_length)\n",
    "print(f'{array = }\\n')\n",
    "\n",
    "indices = np.random.randint(low=0, high=array_length, size=array_length)\n",
    "print(f'{indices = }\\n')\n",
    "\n",
    "# unique_indices = np.unique(indices)\n",
    "# print(f'{unique_indices = }\\n')\n",
    "\n",
    "# If we want to discard repeated indices:\n",
    "print(f'Discarding repeated indices: {array[indices] + 1}')\n",
    "\n",
    "# If we do not want to discard repeated indices:\n",
    "np.add.at(array, indices, 1)\n",
    "print(f'Not discarding repeated indices: {array}')"
   ]
  },
  {
   "cell_type": "markdown",
   "id": "9a0fe4c7",
   "metadata": {},
   "source": [
    "#### 67. Considering a four dimensions array, how to get sum over the last two axis at once? (★★★)"
   ]
  },
  {
   "cell_type": "code",
   "execution_count": 12,
   "id": "996fd4a0",
   "metadata": {},
   "outputs": [
    {
     "name": "stdout",
     "output_type": "stream",
     "text": [
      "(3, 3, 3, 3)\n",
      "\n",
      "[[9. 9. 9.]\n",
      " [9. 9. 9.]\n",
      " [9. 9. 9.]]\n"
     ]
    }
   ],
   "source": [
    "size_of_dimensions = 3\n",
    "four_dimensional_array = np.ones((size_of_dimensions, ) * 4)\n",
    "print(four_dimensional_array.shape, end='\\n\\n')\n",
    "\n",
    "crazy_sum = four_dimensional_array.sum(axis=(-1,-2)) # or sum(axis=(2, 3))\n",
    "print(crazy_sum)"
   ]
  },
  {
   "cell_type": "markdown",
   "id": "c881474a",
   "metadata": {},
   "source": [
    "#### 72. How to swap two rows of an array? (★★★)"
   ]
  },
  {
   "cell_type": "code",
   "execution_count": null,
   "id": "57000e8f",
   "metadata": {},
   "outputs": [],
   "source": [
    "matrix = np.random.randint(low=0, high=10, size=(5, 5))\n",
    "print(matrix)\n",
    "\n",
    "print(\"\\nLet's swap the first row by the last row...\")\n",
    "\n",
    "last_row_index = matrix.shape[0] - 1\n",
    "\n",
    "matrix[[0]], matrix[[last_row_index]] = matrix[[last_row_index]], matrix[[0]]\n",
    "print(matrix)"
   ]
  },
  {
   "cell_type": "markdown",
   "id": "7470a25e",
   "metadata": {},
   "source": [
    "#### 83. How to find the most frequent value in an array?"
   ]
  },
  {
   "cell_type": "code",
   "execution_count": 41,
   "id": "d268ebbe",
   "metadata": {},
   "outputs": [
    {
     "name": "stdout",
     "output_type": "stream",
     "text": [
      "array = array([4, 8, 0, 0, 9, 8, 5, 4, 9, 8])\n",
      "\n",
      "bincount = array([2, 0, 0, 0, 2, 1, 0, 0, 3, 2])\n",
      "most_frequent_value = 8\n",
      "indices_of_most_frequent_value = (array([1, 5, 9]),)\n",
      "frequency_of_most_frequent_value = 3\n"
     ]
    }
   ],
   "source": [
    "array_length = 10\n",
    "array = np.random.randint(low=0, high=10, size=array_length)\n",
    "print(f'{array = }')\n",
    "\n",
    "bincount = np.bincount(array)\n",
    "most_frequent_value = bincount.argmax()\n",
    "indices_of_most_frequent_value = np.where(array == most_frequent_value)\n",
    "frequency_of_most_frequent_value = np.count_nonzero(array == most_frequent_value)\n",
    "\n",
    "print(f'\\n{bincount = }')\n",
    "print(f'{most_frequent_value = }')\n",
    "print(f'{indices_of_most_frequent_value = }')\n",
    "print(f'{frequency_of_most_frequent_value = }')"
   ]
  },
  {
   "cell_type": "markdown",
   "id": "996fd4a0",
   "metadata": {},
   "source": [
    "#### 89. How to get the n largest values of an array (★★★)"
   ]
  },
  {
   "cell_type": "code",
   "execution_count": null,
   "id": "5b0c405c",
   "metadata": {},
   "outputs": [],
   "source": [
    "array = np.random.randint(low=0, high=20, size=10)\n",
    "print(f'{array = }')\n",
    "\n",
    "n = 3\n",
    "print(f'{n = }')\n",
    "\n",
    "n_largest_values = np.sort(array)[:3]\n",
    "print(f'{n_largest_values = }')"
   ]
  },
  {
   "cell_type": "markdown",
   "id": "996fd4a0",
   "metadata": {},
   "source": [
    "#### 94. Considering a 10x3 matrix, extract rows with unequal values (e.g. [2,2,3]) (★★★)"
   ]
  },
  {
   "cell_type": "code",
   "execution_count": null,
   "id": "97e95d03",
   "metadata": {},
   "outputs": [],
   "source": [
    "matrix = np.random.randint(low=0, high=2, size=(10, 3))\n",
    "print(matrix)\n",
    "\n",
    "row_indices = np.where"
   ]
  }
 ],
 "metadata": {
  "kernelspec": {
   "display_name": "Python 3.10.6 ('pydata-book')",
   "language": "python",
   "name": "python3"
  },
  "language_info": {
   "codemirror_mode": {
    "name": "ipython",
    "version": 3
   },
   "file_extension": ".py",
   "mimetype": "text/x-python",
   "name": "python",
   "nbconvert_exporter": "python",
   "pygments_lexer": "ipython3",
   "version": "3.10.6"
  },
  "vscode": {
   "interpreter": {
    "hash": "d66dd9d047cdb8551000d0b01391852b62deb5000975b45c54e6e59b07e38393"
   }
  }
 },
 "nbformat": 4,
 "nbformat_minor": 5
}
