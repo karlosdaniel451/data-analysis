{
 "cells": [
  {
   "cell_type": "code",
   "execution_count": 18,
   "id": "9496e861-5ed9-4d28-b55e-43e0cfc04605",
   "metadata": {},
   "outputs": [
    {
     "name": "stdout",
     "output_type": "stream",
     "text": [
      "Hello world using Python 3.10.6\n"
     ]
    }
   ],
   "source": [
    "import sys\n",
    "\n",
    "print(f'Hello world using Python {sys.version.split()[0]}')"
   ]
  },
  {
   "cell_type": "code",
   "execution_count": null,
   "id": "18db3bbd-866d-4b13-aef5-e96c91249e24",
   "metadata": {},
   "outputs": [],
   "source": []
  }
 ],
 "metadata": {
  "kernelspec": {
   "display_name": "Python 3 (ipykernel)",
   "language": "python",
   "name": "python3"
  },
  "language_info": {
   "codemirror_mode": {
    "name": "ipython",
    "version": 3
   },
   "file_extension": ".py",
   "mimetype": "text/x-python",
   "name": "python",
   "nbconvert_exporter": "python",
   "pygments_lexer": "ipython3",
   "version": "3.10.6"
  }
 },
 "nbformat": 4,
 "nbformat_minor": 5
}
