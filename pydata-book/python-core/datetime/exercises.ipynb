{
 "cells": [
  {
   "cell_type": "markdown",
   "id": "0730b0d6-9912-48af-817a-2d6cf605ca20",
   "metadata": {
    "tags": []
   },
   "source": [
    "### Source: https://www.w3resource.com/python-exercises/date-time-exercise/"
   ]
  },
  {
   "cell_type": "markdown",
   "id": "75ba66de-7cda-46ab-8509-00d768080051",
   "metadata": {},
   "source": [
    "### 1. Write a Python script to display the various Date Time formats:\n",
    "\n",
    "a) Current date and time\n",
    "\n",
    "b) Current year\n",
    "\n",
    "c) Month of year\n",
    "\n",
    "d) Week number of the year\n",
    "\n",
    "e) Weekday of the week\n",
    "\n",
    "f) Day of year\n",
    "\n",
    "g) Day of the month\n",
    "\n",
    "h) Day of week\n"
   ]
  },
  {
   "cell_type": "code",
   "execution_count": 40,
   "id": "f7c0786c-6924-45e4-8b72-5d0f3af9ff0f",
   "metadata": {},
   "outputs": [
    {
     "name": "stdout",
     "output_type": "stream",
     "text": [
      "2022-09-23 23:50:40.174979+00:00\n",
      "\n",
      "2022\n",
      "2022\n",
      "\n",
      "09\n",
      "9\n",
      "\n",
      "38\n",
      "\n",
      "5\n",
      "5\n",
      "\n",
      "266\n",
      "\n",
      "23\n",
      "23\n",
      "\n",
      "Friday\n",
      "\n"
     ]
    }
   ],
   "source": [
    "import datetime\n",
    "\n",
    "# a) Current date and time\n",
    "current_datetime = datetime.datetime.now(datetime.timezone.utc)\n",
    "print(f'{current_datetime}\\n')\n",
    "\n",
    "# b) Current year\n",
    "print(f'{current_datetime:%Y}')\n",
    "# Or\n",
    "print(f'{current_datetime.year}\\n')\n",
    "\n",
    "# c) Month of year\n",
    "print(f'{current_datetime:%m}')\n",
    "# Or\n",
    "print(f'{current_datetime.month}\\n')\n",
    "\n",
    "# d) Week number of the year\n",
    "print(f'{current_datetime:%W}\\n')\n",
    "\n",
    "# e) Weekday of the week\n",
    "print(f'{current_datetime:%w}')\n",
    "# Or\n",
    "print(f'{current_datetime.isoweekday()}\\n')\n",
    "\n",
    "# f) Day of year\n",
    "print(f'{current_datetime:%j}\\n')\n",
    "\n",
    "# g) Day of the month\n",
    "print(f'{current_datetime:%d}')\n",
    "# Or\n",
    "print(f'{current_datetime.day}\\n')\n",
    "\n",
    "# h) Day of week\n",
    "print(f'{current_datetime:%A}\\n')\n"
   ]
  },
  {
   "cell_type": "markdown",
   "id": "ed83ff41-bdd3-4e8e-9ad6-695db5082abf",
   "metadata": {},
   "source": [
    "### 2. Write a Python program to determine whether a given year is a leap year. Go to the editor"
   ]
  },
  {
   "cell_type": "code",
   "execution_count": 41,
   "id": "5e7bb08f-cee0-48c2-9b17-db478c8a4b8f",
   "metadata": {},
   "outputs": [
    {
     "name": "stdout",
     "output_type": "stream",
     "text": [
      "2090 is not a leap year\n"
     ]
    }
   ],
   "source": [
    "import random\n",
    "\n",
    "def is_leap_year(year: int) -> bool:\n",
    "    try:\n",
    "        date = datetime.date(year=year, month=2, day=29)\n",
    "    except ValueError:\n",
    "        return False\n",
    "    \n",
    "    return True\n",
    "\n",
    "year = random.randint(1900, 2100)\n",
    "\n",
    "print(f'{year} is a leap year' if is_leap_year(year) else f'{year} is not a leap year')\n"
   ]
  },
  {
   "cell_type": "markdown",
   "id": "fff18ac1-e38d-4ad7-acd9-fc3c1beb2de1",
   "metadata": {},
   "source": [
    "### 3. Write a Python program to convert a string to datetime\n",
    "\n",
    "* Sample String : Jan 1 2014 2:43PM\n",
    "* Expected Output : 2014-07-01 14:43:00"
   ]
  },
  {
   "cell_type": "code",
   "execution_count": 42,
   "id": "20216c65-ad4a-4e47-b634-f70bc8416e5c",
   "metadata": {},
   "outputs": [
    {
     "name": "stdout",
     "output_type": "stream",
     "text": [
      "2014-01-01 14:43:00\n",
      "2014-01-01 14:43:00\n"
     ]
    }
   ],
   "source": [
    "date_string = 'Jan 1 2014 2:43PM'\n",
    "\n",
    "converted_date = datetime.datetime.strptime(date_string, '%b %d %Y %I:%M%p')\n",
    "\n",
    "print(f'{converted_date:%Y-%m-%d %H:%M:%S}')\n",
    "print(converted_date.isoformat(sep=' '))"
   ]
  },
  {
   "cell_type": "markdown",
   "id": "19d299ae-62c7-4690-a5a7-69b5d4478d5a",
   "metadata": {},
   "source": [
    "### 4. Write a Python program to get the current time in Python\n",
    "\n",
    "* Sample Format :  13:19:49.078205"
   ]
  },
  {
   "cell_type": "code",
   "execution_count": 43,
   "id": "034c5ebc-af5a-4247-970d-4dd7d454b6d4",
   "metadata": {},
   "outputs": [
    {
     "name": "stdout",
     "output_type": "stream",
     "text": [
      "23:50:40.269449\n",
      "23:50:40.269449\n"
     ]
    }
   ],
   "source": [
    "now = datetime.datetime.now()\n",
    "print(f'{now.time()}')\n",
    "\n",
    "current_time = datetime.time(hour=now.hour, minute=now.minute,\n",
    "                             second=now.second, microsecond=now.microsecond)\n",
    "print(f'{current_time:%H:%M:%S.%f}')"
   ]
  },
  {
   "cell_type": "markdown",
   "id": "a8580b91-22e7-4361-b1e8-dd2cacaf56f5",
   "metadata": {},
   "source": [
    "### 5. Write a Python program to subtract five days from current date\n",
    "\n",
    "* Current Date : 2015-06-22\n",
    "* 5 days before Current Date : 2015-06-17"
   ]
  },
  {
   "cell_type": "code",
   "execution_count": 54,
   "id": "32c202ab-0350-46e4-9a5d-6f8cc262be10",
   "metadata": {},
   "outputs": [
    {
     "name": "stdout",
     "output_type": "stream",
     "text": [
      "current_date = 2022-09-23\n",
      "five_days_before_current_date = 2022-09-18\n"
     ]
    }
   ],
   "source": [
    "now = datetime.datetime.now()\n",
    "\n",
    "# current_date = datetime.date(year=now.year, month=now.month, day=now.day)\n",
    "current_date = now.date()\n",
    "\n",
    "five_days_before_current_date = current_date - datetime.timedelta(days=5)\n",
    "\n",
    "print(f'{current_date = :%Y-%m-%d}')\n",
    "print(f'{five_days_before_current_date = :%Y-%m-%d}')"
   ]
  },
  {
   "cell_type": "markdown",
   "id": "7d6f6985-12fd-4916-bb7a-f056342e4273",
   "metadata": {},
   "source": [
    "### 6. Write a Python program to convert unix timestamp string to readable date\n",
    "\n",
    "* Sample Unix timestamp string : 1284105682\n",
    "* Expected Output : 2010-09-10 13:31:22"
   ]
  },
  {
   "cell_type": "code",
   "execution_count": 45,
   "id": "c8833748-1fcb-434c-82f4-f3429a119555",
   "metadata": {},
   "outputs": [
    {
     "name": "stdout",
     "output_type": "stream",
     "text": [
      "unix_timestamp = 3_702_875_687\n",
      "readable_date = 2087-05-04 08:34:47+00:00\n"
     ]
    }
   ],
   "source": [
    "unix_timestamp = random.randint(0, 2**32)\n",
    "\n",
    "readable_date = datetime.datetime.fromtimestamp(unix_timestamp, datetime.timezone.utc)\n",
    "\n",
    "print(f'{unix_timestamp = :_}')\n",
    "print(f'{readable_date = !s}')"
   ]
  },
  {
   "cell_type": "markdown",
   "id": "baf16b2d-7c7a-4eef-aef2-175e1a0acc2a",
   "metadata": {},
   "source": [
    "### 7. Write a Python program to print yesterday, today, tomorrow\n",
    "\n",
    "Sample Output:\n",
    "\n",
    "Yesterday :  2017-05-05                                                                                       \n",
    "Today :  2017-05-06                                                                                           \n",
    "Tomorrow :  2017-05-07  "
   ]
  },
  {
   "cell_type": "code",
   "execution_count": 46,
   "id": "501441cc-f3eb-4fa4-b158-726176458b29",
   "metadata": {},
   "outputs": [
    {
     "name": "stdout",
     "output_type": "stream",
     "text": [
      "yesterday = 2022-09-22\n",
      "today = 2022-09-23\n",
      "tomorrow = 2022-09-24\n"
     ]
    }
   ],
   "source": [
    "today = datetime.date.today()\n",
    "yesterday = today - datetime.timedelta(days=1)\n",
    "tomorrow = today + datetime.timedelta(days=1)\n",
    "\n",
    "\n",
    "print(f'{yesterday = !s}')\n",
    "print(f'{today = !s}')\n",
    "print(f'{tomorrow = !s}')"
   ]
  },
  {
   "cell_type": "markdown",
   "id": "2e526033-0478-432e-8e7f-1b830fefafc6",
   "metadata": {},
   "source": [
    "### 9. Write a Python program to print next 5 days starting from today."
   ]
  },
  {
   "cell_type": "code",
   "execution_count": 55,
   "id": "16f75585-41b9-47d5-955f-47e158d312f8",
   "metadata": {},
   "outputs": [
    {
     "name": "stdout",
     "output_type": "stream",
     "text": [
      "today = 2022-09-24\n",
      "\n",
      "0 day(s) after today: 2022-09-24\n",
      "1 day(s) after today: 2022-09-25\n",
      "2 day(s) after today: 2022-09-26\n",
      "3 day(s) after today: 2022-09-27\n",
      "4 day(s) after today: 2022-09-28\n"
     ]
    }
   ],
   "source": [
    "today = datetime.date.today()\n",
    "\n",
    "print(f'{today = !s}\\n')\n",
    "\n",
    "for i in range(5):\n",
    "    i_days_after_today = today + datetime.timedelta(days=i)\n",
    "    print(f'{i} day(s) after today: {i_days_after_today}')"
   ]
  },
  {
   "cell_type": "markdown",
   "id": "f755fe1b-49aa-4f49-9386-551e5a7f85b6",
   "metadata": {},
   "source": [
    "### 10. Write a Python program to add 5 seconds with the current time\n",
    "\n",
    "Sample Data:\n",
    "* 13:28:32.953088\n",
    "* 13:28:37.953088"
   ]
  },
  {
   "cell_type": "code",
   "execution_count": 48,
   "id": "ea80a2e2-8f03-4820-b0f7-c34861899576",
   "metadata": {},
   "outputs": [
    {
     "name": "stdout",
     "output_type": "stream",
     "text": [
      "23:50:40\n",
      "23:50:45\n"
     ]
    }
   ],
   "source": [
    "now = datetime.datetime.now()\n",
    "\n",
    "print(f'{now:%H:%M:%S}')\n",
    "print(f'{now + datetime.timedelta(seconds=5):%H:%M:%S}')\n"
   ]
  },
  {
   "cell_type": "markdown",
   "id": "a12872f6-63ba-4c2c-aac0-8de6117059d5",
   "metadata": {},
   "source": [
    "### "
   ]
  }
 ],
 "metadata": {
  "kernelspec": {
   "display_name": "Python 3 (ipykernel)",
   "language": "python",
   "name": "python3"
  },
  "language_info": {
   "codemirror_mode": {
    "name": "ipython",
    "version": 3
   },
   "file_extension": ".py",
   "mimetype": "text/x-python",
   "name": "python",
   "nbconvert_exporter": "python",
   "pygments_lexer": "ipython3",
   "version": "3.10.6"
  }
 },
 "nbformat": 4,
 "nbformat_minor": 5
}
