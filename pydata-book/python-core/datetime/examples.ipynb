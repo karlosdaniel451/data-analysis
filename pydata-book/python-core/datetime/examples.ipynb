{
 "cells": [
  {
   "cell_type": "markdown",
   "id": "80bbee4f-7169-4d31-b7d6-f9d570d348dc",
   "metadata": {},
   "source": [
    "## Importing the datetime module"
   ]
  },
  {
   "cell_type": "code",
   "execution_count": 1,
   "id": "36558377-b293-4394-a022-cb4db2cadca3",
   "metadata": {},
   "outputs": [],
   "source": [
    "import datetime"
   ]
  },
  {
   "cell_type": "markdown",
   "id": "e07ddf0b-cc9e-4cbc-ae9f-d8e754b78d07",
   "metadata": {},
   "source": [
    "## Main classes in datetime module:\n",
    "\n",
    "The main classes in the datetime module are:\n",
    "\n",
    "- datetime.time\n",
    "- datetime.date\n",
    "- datetime.datetime\n",
    "- datetime.timedelta\n",
    "- datetime.tzinfo\n",
    "- datetime.timezone"
   ]
  },
  {
   "cell_type": "markdown",
   "id": "3abfe5a7-2d04-4123-be5c-f0b2fea23125",
   "metadata": {},
   "source": [
    "### datetime.time\n",
    "\n",
    "A time object represents a (local) time of any day. It assumes a standard day of 24\\*60\\*60 seconds. The main attributes available are:\n",
    "\n",
    "- min: The earliest representable time, ``datetime.time(0, 0, 0, 0)``.\n",
    "- max: The latest representable time, ``datetime.time(23, 59, 59, 999999)``.\n",
    "- hour\n",
    "- minute\n",
    "- second\n",
    "- microsecond\n",
    "- tzinfo"
   ]
  },
  {
   "cell_type": "markdown",
   "id": "a6940b76-175b-4ea4-9141-a61d84ca0fee",
   "metadata": {},
   "source": [
    "### datetime.date\n",
    "\n",
    "A `datetime.date` object represents a date (year, month and day) in an idealized calendar, the current Gregorian calendar indefinitely extended in both directions.\n",
    "\n",
    "#### Constructor\n",
    "\n",
    "```\n",
    "class datetime.date(year: int, month: int, day: int)\n",
    "```\n",
    "\n",
    "* MINYEAR <= year <= MAXYEAR\n",
    "* 1 <= month <= 12\n",
    "* 1 <= day <= number of days in the given month and year\n",
    "\n",
    "\n",
    "#### Class methods\n",
    "\n",
    "- datetime.date.today(): Return a `datetime.date` object representing the current local date.\n",
    "- datetime.date.fromisoformat(date_string): Return a `datetime.date` object corresonding to the given `date_string` in the format YYYY-MM-DD.\n",
    "\n",
    "#### Class attributes\n",
    "\n",
    "- datetime.date.min: The earliest representable date, `datetime.date(MINYEAR, 1, 1)`\n",
    "- datetime.date.max: The latest representable date, `datetime.date(MAXYEAR, 12, 31)`\n",
    "\n",
    "#### Instance methods\n",
    "\n",
    "- replace(year=self.year, month=self.month, day=self.day): Return a date with the same value, except for those parameters given new values by whichever keyword arguments are specified.\n",
    "- weekday(): Return the day of the week as an integer, where Monday is 0 and Sunday is 6.\n",
    "- isoweekday(): Return the day of the week as an integer, where Monday is 1 and Sunday is 7.\n",
    "- isoformat(): The inverse of `datetime.date.fromisoformat()`.\n",
    "- __str__(): Equivalent to `ìsoformat()`\n",
    "\n",
    "#### Instance attributes (read-only)\n",
    "\n",
    "- year\n",
    "- month\n",
    "- day\n"
   ]
  },
  {
   "cell_type": "markdown",
   "id": "ac9d1a95-023f-4e2f-97d1-0a62312194ae",
   "metadata": {},
   "source": [
    "### datetime.datetime\n",
    "\n",
    "A `datetime.datetime` object is a single object containing all the information from a `datetime.date` and a `datetime.time` objects.\n",
    "\n",
    "#### Main Class methods\n",
    "\n",
    "- datetime.datetime.today(): Return the current datetime, with `tzinfo` None. It's functionally equivalent to `now()`, but without a `tz` parameter.\n",
    "- datetime.datetime.now(tz=None): Return the current local datetime. This function is preferred over `today` and `utcnow`.\n",
    "- datetime.datetime.utcnow(): Return the current UTC date and datetime, with tzinfo `None`. Therefore, the recommended way to create an object representing the current time in UTC is by calling datetime.datetime.now(timezone.utc).\n",
    "- datetime.datetime.fromisoformat(date_string): Return a `datetime` corresponding to `date_string` in one of the formats emmited by `date.isoformat()` and `datetime.isoformat()`.\n"
   ]
  },
  {
   "cell_type": "markdown",
   "id": "f49f773e-3797-48b3-ae2b-d1680a8734cd",
   "metadata": {},
   "source": [
    "### datetime.timedelta\n",
    "\n",
    "A ``datetime.timedelta` object represents the difference between two dates or times.\n",
    "\n",
    "#### Constructor\n",
    "\n",
    "```\n",
    "class datetime.timedelta(days=0, seconds=0, microseconds=0, milliseconds=0, minutes=0, hours=0, weeks=0)\n",
    "```\n",
    "\n",
    "All arguments are optional and defaul to `0`. They also may be integers or floats, and may be positive or negative.\n",
    "\n",
    "Only *days*, *seconds* and *microseconds* are stored internally. Arguments are converted to those units:\n",
    "\n",
    "* A millisecond is converted to 1000 microseconds.\n",
    "* A minute is converted to 60 seconds.\n",
    "* An hour is confverted to 3600 seconds.\n",
    "* A week is converted to 7 days.\n",
    "\n",
    "\n",
    "#### Main Class methods\n",
    "\n",
    "\n",
    "#### Class attributes\n",
    "\n",
    "- datetime.timedelta.min: The most negative `timedelta` object, `timedelta(-999999999)`.\n",
    "- datetime.timedelta.min: The most positive `timedelta` object, `timedelta(days=999999999, hours=23, minutes=59, seconds=59, microseconds=999999)`.\n",
    "- datetime.timedelta.resolution: The smallest possible difference between non-equal `timedelta` objects, `timedelta(microseconds=1)`.\n",
    "\n",
    "#### Instance attributes (read-only)\n",
    "\n",
    "- days: Between -999999999 and 999999999 inclusive.\n",
    "- seconds: Between 0 and 86399 inclusive\n",
    "- microseconds: Between 0 and 999999 inclusive\n",
    "\n",
    "#### Instance methods:\n",
    "\n",
    "- total_seconds(): Return the total number of seconds contained in the duration. Equivalent to `td / timedelta(seconds=1)`."
   ]
  },
  {
   "cell_type": "markdown",
   "id": "52350d73-4e23-4e37-a0bc-101ef7580f69",
   "metadata": {},
   "source": [
    "### datetime.tzinfo"
   ]
  },
  {
   "cell_type": "markdown",
   "id": "7e7699f4-deb7-4c8b-aa20-10cd918c1503",
   "metadata": {},
   "source": [
    "### datetime.timezone"
   ]
  }
 ],
 "metadata": {
  "kernelspec": {
   "display_name": "Python 3 (ipykernel)",
   "language": "python",
   "name": "python3"
  },
  "language_info": {
   "codemirror_mode": {
    "name": "ipython",
    "version": 3
   },
   "file_extension": ".py",
   "mimetype": "text/x-python",
   "name": "python",
   "nbconvert_exporter": "python",
   "pygments_lexer": "ipython3",
   "version": "3.10.6"
  }
 },
 "nbformat": 4,
 "nbformat_minor": 5
}
