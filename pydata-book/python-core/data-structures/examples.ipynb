{
 "cells": [
  {
   "cell_type": "markdown",
   "id": "fc3fb3f7-0bbf-4ef4-8360-bc5548fbd561",
   "metadata": {
    "tags": []
   },
   "source": [
    "### Categorize a list of words by their first letters as a dictionary of lists.\n",
    "\n",
    "Inspired by: https://wesmckinney.com/book/python-builtin.html#dict"
   ]
  },
  {
   "cell_type": "code",
   "execution_count": 88,
   "id": "df8c8025-fb19-4f17-a979-7e4ff53811c2",
   "metadata": {},
   "outputs": [
    {
     "data": {
      "text/plain": [
       "'Lorem ipsum dolor sit amet, consectetur adipiscing elit, sed do eiusmod tempor incididunt ut labore et dolore magna aliqua. Ut enim ad minim veniam, quis nostrud exercitation ullamco laboris nisi ut aliquip ex ea commodo consequat. Duis aute irure dolor in reprehenderit in voluptate velit esse cillum dolore eu fugiat nulla pariatur. Excepteur sint occaecat cupidatat non proident, sunt in culpa qui officia deserunt mollit anim id est laborum.'"
      ]
     },
     "execution_count": 88,
     "metadata": {},
     "output_type": "execute_result"
    }
   ],
   "source": [
    "text = (\"Lorem ipsum dolor sit amet, consectetur adipiscing elit, sed do\"\n",
    "        \" eiusmod tempor incididunt ut labore et dolore magna aliqua. Ut enim\"\n",
    "        \" ad minim veniam, quis nostrud exercitation ullamco laboris nisi ut\"\n",
    "        \" aliquip ex ea commodo consequat. Duis aute irure dolor in\"\n",
    "        \" reprehenderit in voluptate velit esse cillum dolore eu fugiat nulla\"\n",
    "        \" pariatur. Excepteur sint occaecat cupidatat non proident, sunt in\"\n",
    "        \" culpa qui officia deserunt mollit anim id est laborum.\")\n",
    "text"
   ]
  },
  {
   "cell_type": "code",
   "execution_count": 89,
   "id": "a34a43ac-608b-4c92-af81-d5de88299b24",
   "metadata": {},
   "outputs": [
    {
     "data": {
      "text/plain": [
       "'LOREM IPSUM DOLOR SIT AMET, CONSECTETUR ADIPISCING ELIT, SED DO EIUSMOD TEMPOR INCIDIDUNT UT LABORE ET DOLORE MAGNA ALIQUA. UT ENIM AD MINIM VENIAM, QUIS NOSTRUD EXERCITATION ULLAMCO LABORIS NISI UT ALIQUIP EX EA COMMODO CONSEQUAT. DUIS AUTE IRURE DOLOR IN REPREHENDERIT IN VOLUPTATE VELIT ESSE CILLUM DOLORE EU FUGIAT NULLA PARIATUR. EXCEPTEUR SINT OCCAECAT CUPIDATAT NON PROIDENT, SUNT IN CULPA QUI OFFICIA DESERUNT MOLLIT ANIM ID EST LABORUM.'"
      ]
     },
     "execution_count": 89,
     "metadata": {},
     "output_type": "execute_result"
    }
   ],
   "source": [
    "# Normalise text's words\n",
    "\n",
    "text = text.upper()\n",
    "text.replace(',', '')\n",
    "text.replace('.', '')\n",
    "\n",
    "text"
   ]
  },
  {
   "cell_type": "code",
   "execution_count": 90,
   "id": "6619477a-43bd-48f4-b227-1fa5b4feb208",
   "metadata": {},
   "outputs": [
    {
     "name": "stdout",
     "output_type": "stream",
     "text": [
      "69\n",
      "['LOREM', 'IPSUM', 'DOLOR', 'SIT', 'AMET,', 'CONSECTETUR', 'ADIPISCING', 'ELIT,', 'SED', 'DO', 'EIUSMOD', 'TEMPOR', 'INCIDIDUNT', 'UT', 'LABORE', 'ET', 'DOLORE', 'MAGNA', 'ALIQUA.', 'UT', 'ENIM', 'AD', 'MINIM', 'VENIAM,', 'QUIS', 'NOSTRUD', 'EXERCITATION', 'ULLAMCO', 'LABORIS', 'NISI', 'UT', 'ALIQUIP', 'EX', 'EA', 'COMMODO', 'CONSEQUAT.', 'DUIS', 'AUTE', 'IRURE', 'DOLOR', 'IN', 'REPREHENDERIT', 'IN', 'VOLUPTATE', 'VELIT', 'ESSE', 'CILLUM', 'DOLORE', 'EU', 'FUGIAT', 'NULLA', 'PARIATUR.', 'EXCEPTEUR', 'SINT', 'OCCAECAT', 'CUPIDATAT', 'NON', 'PROIDENT,', 'SUNT', 'IN', 'CULPA', 'QUI', 'OFFICIA', 'DESERUNT', 'MOLLIT', 'ANIM', 'ID', 'EST', 'LABORUM.']\n"
     ]
    }
   ],
   "source": [
    "words = text.split(' ')\n",
    "\n",
    "print(len(words))\n",
    "print(words)"
   ]
  },
  {
   "cell_type": "code",
   "execution_count": 91,
   "id": "8a2901e8-0061-47b2-ae08-34780fd16b01",
   "metadata": {},
   "outputs": [
    {
     "name": "stdout",
     "output_type": "stream",
     "text": [
      "63\n",
      "['ADIPISCING', 'PARIATUR.', 'LABORIS', 'DO', 'QUIS', 'CILLUM', 'DESERUNT', 'ANIM', 'EST', 'EIUSMOD', 'IPSUM', 'REPREHENDERIT', 'OCCAECAT', 'ALIQUIP', 'AD', 'EX', 'MAGNA', 'SIT', 'VELIT', 'DUIS', 'LABORUM.', 'LOREM', 'CULPA', 'EA', 'LABORE', 'CUPIDATAT', 'ET', 'ENIM', 'IN', 'ULLAMCO', 'MINIM', 'QUI', 'INCIDIDUNT', 'VENIAM,', 'NULLA', 'SUNT', 'ALIQUA.', 'DOLORE', 'EXERCITATION', 'SINT', 'TEMPOR', 'SED', 'NOSTRUD', 'EXCEPTEUR', 'NISI', 'COMMODO', 'AUTE', 'OFFICIA', 'ID', 'MOLLIT', 'UT', 'DOLOR', 'PROIDENT,', 'CONSECTETUR', 'CONSEQUAT.', 'VOLUPTATE', 'ELIT,', 'EU', 'NON', 'AMET,', 'IRURE', 'ESSE', 'FUGIAT']\n"
     ]
    }
   ],
   "source": [
    "# Remove duplciate words\n",
    "\n",
    "words = list(set(words))\n",
    "print(len(words))\n",
    "print(words)"
   ]
  },
  {
   "cell_type": "code",
   "execution_count": 92,
   "id": "69ec977c-9f81-46f7-a8b3-44926fd8df60",
   "metadata": {},
   "outputs": [
    {
     "name": "stdout",
     "output_type": "stream",
     "text": [
      "defaultdict(<class 'list'>, {'A': ['ADIPISCING', 'ANIM', 'ALIQUIP', 'AD', 'ALIQUA.', 'AUTE', 'AMET,'], 'P': ['PARIATUR.', 'PROIDENT,'], 'L': ['LABORIS', 'LABORUM.', 'LOREM', 'LABORE'], 'D': ['DO', 'DESERUNT', 'DUIS', 'DOLORE', 'DOLOR'], 'Q': ['QUIS', 'QUI'], 'C': ['CILLUM', 'CULPA', 'CUPIDATAT', 'COMMODO', 'CONSECTETUR', 'CONSEQUAT.'], 'E': ['EST', 'EIUSMOD', 'EX', 'EA', 'ET', 'ENIM', 'EXERCITATION', 'EXCEPTEUR', 'ELIT,', 'EU', 'ESSE'], 'I': ['IPSUM', 'IN', 'INCIDIDUNT', 'ID', 'IRURE'], 'R': ['REPREHENDERIT'], 'O': ['OCCAECAT', 'OFFICIA'], 'M': ['MAGNA', 'MINIM', 'MOLLIT'], 'S': ['SIT', 'SUNT', 'SINT', 'SED'], 'V': ['VELIT', 'VENIAM,', 'VOLUPTATE'], 'U': ['ULLAMCO', 'UT'], 'N': ['NULLA', 'NOSTRUD', 'NISI', 'NON'], 'T': ['TEMPOR'], 'F': ['FUGIAT']})\n"
     ]
    }
   ],
   "source": [
    "words_by_first_letter: dict[str, list] = {}\n",
    "\n",
    "# Create lists of words for each fist letter.\n",
    "\n",
    "## Option 1\n",
    "#for word in words:\n",
    "#    first_letter = word[0]\n",
    "#    if first_letter in words_by_first_letter:\n",
    "#        words_by_first_letter[first_letter].append(word)\n",
    "#    else:\n",
    "#        words_by_first_letter[first_letter] = [word]\n",
    "\n",
    "## Option 2\n",
    "#for word in words:\n",
    "#    first_letter = word[0]\n",
    "#    words_by_first_letter.setdefault(first_letter, []).append(word)\n",
    "\n",
    "## Option 3\n",
    "from collections import defaultdict\n",
    "\n",
    "words_by_first_letter = defaultdict(list)\n",
    "\n",
    "for word in words:\n",
    "    words_by_first_letter[word[0]].append(word)\n",
    "\n",
    "print(words_by_first_letter)"
   ]
  },
  {
   "cell_type": "code",
   "execution_count": 93,
   "id": "a8b48ead-a3b8-41ea-926b-a59f89ba29c3",
   "metadata": {},
   "outputs": [
    {
     "name": "stdout",
     "output_type": "stream",
     "text": [
      "{'A': ['AD', 'ADIPISCING', 'ALIQUA.', 'ALIQUIP', 'AMET,', 'ANIM', 'AUTE'], 'C': ['CILLUM', 'COMMODO', 'CONSECTETUR', 'CONSEQUAT.', 'CULPA', 'CUPIDATAT'], 'D': ['DESERUNT', 'DO', 'DOLOR', 'DOLORE', 'DUIS'], 'E': ['EA', 'EIUSMOD', 'ELIT,', 'ENIM', 'ESSE', 'EST', 'ET', 'EU', 'EX', 'EXCEPTEUR', 'EXERCITATION'], 'F': ['FUGIAT'], 'I': ['ID', 'IN', 'INCIDIDUNT', 'IPSUM', 'IRURE'], 'L': ['LABORE', 'LABORIS', 'LABORUM.', 'LOREM'], 'M': ['MAGNA', 'MINIM', 'MOLLIT'], 'N': ['NISI', 'NON', 'NOSTRUD', 'NULLA'], 'O': ['OCCAECAT', 'OFFICIA'], 'P': ['PARIATUR.', 'PROIDENT,'], 'Q': ['QUI', 'QUIS'], 'R': ['REPREHENDERIT'], 'S': ['SED', 'SINT', 'SIT', 'SUNT'], 'T': ['TEMPOR'], 'U': ['ULLAMCO', 'UT'], 'V': ['VELIT', 'VENIAM,', 'VOLUPTATE']}\n"
     ]
    }
   ],
   "source": [
    "# Sort dictionary keys alphabetically.\n",
    "words_by_first_letter = dict(sorted(words_by_first_letter.items()))\n",
    "\n",
    "# Sort dictionary values (lists of words) alphabetically.\n",
    "for words in words_by_first_letter.values():\n",
    "    words.sort()\n",
    "\n",
    "print(words_by_first_letter)"
   ]
  },
  {
   "cell_type": "code",
   "execution_count": 94,
   "id": "0713a73a-765a-495b-93c4-eef57baa20f8",
   "metadata": {},
   "outputs": [
    {
     "name": "stdout",
     "output_type": "stream",
     "text": [
      "---------A----------\n",
      "Number of words: 7\n",
      "\n",
      "Words: ['AD', 'ADIPISCING', 'ALIQUA.', 'ALIQUIP', 'AMET,', 'ANIM', 'AUTE']\n",
      "\n",
      "---------C----------\n",
      "Number of words: 6\n",
      "\n",
      "Words: ['CILLUM', 'COMMODO', 'CONSECTETUR', 'CONSEQUAT.', 'CULPA', 'CUPIDATAT']\n",
      "\n",
      "---------D----------\n",
      "Number of words: 5\n",
      "\n",
      "Words: ['DESERUNT', 'DO', 'DOLOR', 'DOLORE', 'DUIS']\n",
      "\n",
      "---------E----------\n",
      "Number of words: 11\n",
      "\n",
      "Words: ['EA', 'EIUSMOD', 'ELIT,', 'ENIM', 'ESSE', 'EST', 'ET', 'EU', 'EX', 'EXCEPTEUR', 'EXERCITATION']\n",
      "\n",
      "---------F----------\n",
      "Number of words: 1\n",
      "\n",
      "Words: ['FUGIAT']\n",
      "\n",
      "---------I----------\n",
      "Number of words: 5\n",
      "\n",
      "Words: ['ID', 'IN', 'INCIDIDUNT', 'IPSUM', 'IRURE']\n",
      "\n",
      "---------L----------\n",
      "Number of words: 4\n",
      "\n",
      "Words: ['LABORE', 'LABORIS', 'LABORUM.', 'LOREM']\n",
      "\n",
      "---------M----------\n",
      "Number of words: 3\n",
      "\n",
      "Words: ['MAGNA', 'MINIM', 'MOLLIT']\n",
      "\n",
      "---------N----------\n",
      "Number of words: 4\n",
      "\n",
      "Words: ['NISI', 'NON', 'NOSTRUD', 'NULLA']\n",
      "\n",
      "---------O----------\n",
      "Number of words: 2\n",
      "\n",
      "Words: ['OCCAECAT', 'OFFICIA']\n",
      "\n",
      "---------P----------\n",
      "Number of words: 2\n",
      "\n",
      "Words: ['PARIATUR.', 'PROIDENT,']\n",
      "\n",
      "---------Q----------\n",
      "Number of words: 2\n",
      "\n",
      "Words: ['QUI', 'QUIS']\n",
      "\n",
      "---------R----------\n",
      "Number of words: 1\n",
      "\n",
      "Words: ['REPREHENDERIT']\n",
      "\n",
      "---------S----------\n",
      "Number of words: 4\n",
      "\n",
      "Words: ['SED', 'SINT', 'SIT', 'SUNT']\n",
      "\n",
      "---------T----------\n",
      "Number of words: 1\n",
      "\n",
      "Words: ['TEMPOR']\n",
      "\n",
      "---------U----------\n",
      "Number of words: 2\n",
      "\n",
      "Words: ['ULLAMCO', 'UT']\n",
      "\n",
      "---------V----------\n",
      "Number of words: 3\n",
      "\n",
      "Words: ['VELIT', 'VENIAM,', 'VOLUPTATE']\n",
      "\n"
     ]
    }
   ],
   "source": [
    "for letter, words in words_by_first_letter.items():\n",
    "    # print(f'Words which start with \"{letter}\":\\n\\nQuantity: {len(words)}.\\n\\nWords:{words}')\n",
    "    print(f'{letter:-^20}')\n",
    "    print(f'Number of words: {len(words)}')\n",
    "    print(f'\\nWords: {words}\\n')"
   ]
  }
 ],
 "metadata": {
  "kernelspec": {
   "display_name": "Python 3 (ipykernel)",
   "language": "python",
   "name": "python3"
  },
  "language_info": {
   "codemirror_mode": {
    "name": "ipython",
    "version": 3
   },
   "file_extension": ".py",
   "mimetype": "text/x-python",
   "name": "python",
   "nbconvert_exporter": "python",
   "pygments_lexer": "ipython3",
   "version": "3.10.6"
  }
 },
 "nbformat": 4,
 "nbformat_minor": 5
}
