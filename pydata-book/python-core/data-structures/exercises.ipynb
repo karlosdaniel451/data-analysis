{
 "cells": [
  {
   "cell_type": "markdown",
   "id": "34661289-ef6b-4b77-a413-95d33080ec0f",
   "metadata": {},
   "source": [
    "### Source: https://pynative.com/python-data-structure-exercise-for-beginners/"
   ]
  },
  {
   "cell_type": "markdown",
   "id": "4cd32d72-6ca0-49d0-b4d8-250a862549ac",
   "metadata": {},
   "source": [
    "#### Exercise 1: Create a list by picking an odd-index items from the first list and even index items from the second"
   ]
  },
  {
   "cell_type": "code",
   "execution_count": 113,
   "id": "751d03f7-71a6-4543-b459-16d8a023e41e",
   "metadata": {},
   "outputs": [
    {
     "name": "stdout",
     "output_type": "stream",
     "text": [
      "[387, 569, 561, 260, 202, 859, 871, 599, 478, 762]\n",
      "[534, 130, 262, 73, 413, 743, 588, 331, 376, 803]\n",
      "[569, 260, 859, 599, 762, 534, 262, 413, 588, 376]\n"
     ]
    }
   ],
   "source": [
    "import random\n",
    "\n",
    "list_1 = [random.randint(0, 1000) for i in range(10)]\n",
    "\n",
    "list_2 = [random.randint(0, 1000) for i in range(10)]\n",
    "\n",
    "\n",
    "list_3 = list_1[1::2] + list_2[::2]\n",
    "\n",
    "print(list_1)\n",
    "print(list_2)\n",
    "print(list_3)"
   ]
  },
  {
   "cell_type": "markdown",
   "id": "177e679b-8e82-4d55-a989-2ace105fb108",
   "metadata": {},
   "source": [
    "### Exercise 2: Remove and add item in a list\n",
    "\n",
    "Write a program to remove the item present at index 4 and add it to the 2nd position and at the end of the list."
   ]
  },
  {
   "cell_type": "code",
   "execution_count": 114,
   "id": "a894e918-3d79-426f-83b3-b2d3c99c3173",
   "metadata": {},
   "outputs": [
    {
     "name": "stdout",
     "output_type": "stream",
     "text": [
      "[54, 8, 72, 33, 78, 95, 8, 2, 1, 16]\n",
      "78\n",
      "[54, 8, 72, 33, 95, 8, 2, 1, 16]\n",
      "[54, 78, 8, 72, 33, 95, 8, 2, 1, 16, 78]\n"
     ]
    }
   ],
   "source": [
    "list_1 = [random.randint(0, 100) for i in range(10)]\n",
    "\n",
    "print(list_1)\n",
    "\n",
    "element_at_index_4 = list_1.pop(4)\n",
    "print(element_at_index_4)\n",
    "print(list_1)\n",
    "\n",
    "list_1.insert(1, element_at_index_4)\n",
    "list_1.append(element_at_index_4)\n",
    "print(list_1)"
   ]
  },
  {
   "cell_type": "markdown",
   "id": "e7f38fc3-f133-4973-8430-77c0a662e8b2",
   "metadata": {},
   "source": [
    "### Exercise 3: Slice list into 3 equal chunks and reverse each chunk"
   ]
  },
  {
   "cell_type": "code",
   "execution_count": 115,
   "id": "cb194ccc-a0e3-4fd9-b5f3-e7977f29e1b4",
   "metadata": {},
   "outputs": [
    {
     "name": "stdout",
     "output_type": "stream",
     "text": [
      "6\n",
      "[44, 78, 6, 31, 37, 60]\n",
      "\n",
      "stop_index_of_chunk_1 = 2\n",
      "stop_index_of_chunk_2 = 4\n",
      "stop_index_of_chunk_3 = 6\n",
      "\n",
      "chunk_1 = [44, 78]\n",
      "chunk_1 reversed: [78, 44]\n",
      "\n",
      "chunk_2 = [6, 31]\n",
      "chunk_2 reversed: [31, 6]\n",
      "\n",
      "chunk_3 = [37, 60]\n",
      "chunk_3 reversed: [60, 37]\n"
     ]
    }
   ],
   "source": [
    "# Create a list of random integers in `range(100)` with length equals\n",
    "# to 6, 9, 12 or 15.\n",
    "list_1 = [random.randint(0, 100) for i in range(random.choice((6, 9, 12, 15)))]\n",
    "\n",
    "print(len(list_1))\n",
    "print(list_1)\n",
    "\n",
    "stop_index_of_chunk_1 = len(list_1) // 3\n",
    "stop_index_of_chunk_2 = stop_index_of_chunk_1 * 2\n",
    "stop_index_of_chunk_3 = stop_index_of_chunk_1 * 3\n",
    "\n",
    "print(f'\\n{stop_index_of_chunk_1 = }')\n",
    "print(f'{stop_index_of_chunk_2 = }')\n",
    "print(f'{stop_index_of_chunk_3 = }')\n",
    "\n",
    "\n",
    "chunk_1 = list_1[:stop_index_of_chunk_1]\n",
    "chunk_2 = list_1[stop_index_of_chunk_1:stop_index_of_chunk_2]\n",
    "chunk_3 = list_1[stop_index_of_chunk_2:stop_index_of_chunk_3]\n",
    "\n",
    "print(f'\\n{chunk_1 = }')\n",
    "print(f'chunk_1 reversed: {chunk_1[::-1]}')\n",
    "\n",
    "print(f'\\n{chunk_2 = }')\n",
    "print(f'chunk_2 reversed: {chunk_2[::-1]}')\n",
    "\n",
    "print(f'\\n{chunk_3 = }')\n",
    "print(f'chunk_3 reversed: {chunk_3[::-1]}')"
   ]
  },
  {
   "cell_type": "markdown",
   "id": "ad76a7e0-b607-4a4b-be4d-db94a0c8b9d0",
   "metadata": {},
   "source": [
    "### Exercise 4: Count the occurrence of each element from a list\n",
    "\n",
    "Write a program to iterate a given list and count the occurrence of each element and create a dictionary to show the count of each element."
   ]
  },
  {
   "cell_type": "code",
   "execution_count": 116,
   "id": "2547158d-c098-420d-a9b0-8de764be4268",
   "metadata": {},
   "outputs": [
    {
     "name": "stdout",
     "output_type": "stream",
     "text": [
      "List:\n",
      "[9, 17, 16, 45, 1, 21, 64, 95, 96, 59, 41, 74, 85, 38, 14, 76, 30, 92, 7, 100]\n",
      "\n",
      "Ocurrencies by element:\n",
      "{9: 1, 17: 1, 16: 1, 45: 1, 1: 1, 21: 1, 64: 1, 95: 1, 96: 1, 59: 1, 41: 1, 74: 1, 85: 1, 38: 1, 14: 1, 76: 1, 30: 1, 92: 1, 7: 1, 100: 1}\n"
     ]
    }
   ],
   "source": [
    "list_1 = [random.randint(0, 100) for i in range(20)]\n",
    "print(f'List:\\n{list_1}')\n",
    "\n",
    "ocurrencies_by_element: dict[int, int] = {}\n",
    "\n",
    "\n",
    "## If it is not necessary to preserve the order of elements.\n",
    "\n",
    "## Iterate over a set so that there is no duplicate element.\n",
    "#for i in set(list_1):\n",
    "#    ocurrencies_by_element[i] = list_1.count(i)\n",
    "\n",
    "\n",
    "## If it is necessary to preserve the order of elements.\n",
    "\n",
    "for i in list_1:\n",
    "    if i in ocurrencies_by_element:\n",
    "        ocurrencies_by_element[i] += 1\n",
    "    else:\n",
    "        ocurrencies_by_element[i] = 1\n",
    "    \n",
    "print(f'\\nOcurrencies by element:\\n{ocurrencies_by_element}')"
   ]
  },
  {
   "cell_type": "markdown",
   "id": "15bcc68e-ae31-4cff-a9f5-71b386699825",
   "metadata": {},
   "source": [
    "### Exercise 5: Create a Python set such that it shows the element from both lists in a pair"
   ]
  },
  {
   "cell_type": "code",
   "execution_count": 117,
   "id": "1a4962ec-24dd-4cb7-bd4a-0bd06afe3f13",
   "metadata": {},
   "outputs": [
    {
     "name": "stdout",
     "output_type": "stream",
     "text": [
      "[53, 55, 64, 22, 72, 63, 36, 55, 10, 65]\n",
      "[23, 99, 63, 46, 2, 13, 78, 47, 15, 79]\n",
      "\n",
      "{(10, 15), (55, 47), (63, 13), (72, 2), (55, 99), (36, 78), (22, 46), (53, 23), (64, 63), (65, 79)}\n"
     ]
    }
   ],
   "source": [
    "list_1 = [random.randint(0, 100) for i in range(10)]\n",
    "list_2 = [random.randint(0, 100) for i in range(10)]\n",
    "\n",
    "print(list_1)\n",
    "print(list_2)\n",
    "\n",
    "result = set(zip(list_1, list_2))\n",
    "\n",
    "print(f'\\n{result}')"
   ]
  },
  {
   "cell_type": "markdown",
   "id": "a4f1d9f9-00a7-4766-a32a-5d7bfd1a561a",
   "metadata": {},
   "source": [
    "### Exercise 6: Find the intersection (common) of two sets and remove those elements from the first set"
   ]
  },
  {
   "cell_type": "code",
   "execution_count": 118,
   "id": "805e2517-e70e-4200-bf73-f61e55c019b6",
   "metadata": {},
   "outputs": [
    {
     "name": "stdout",
     "output_type": "stream",
     "text": [
      "set_1 = {64, 1, 42, 48, 50, 21, 54, 25, 29, 30}\n",
      "set_2 = {7, 8, 44, 48, 52, 56, 90, 94, 95}\n",
      "\n",
      "intersection = {48}\n",
      "set_1 = {64, 1, 42, 50, 21, 54, 25, 29, 30}\n"
     ]
    }
   ],
   "source": [
    "set_1 = {random.randint(0, 100) for i in range(10)}\n",
    "set_2 = {random.randint(0, 100) for i in range(10)}\n",
    "\n",
    "print(f'{set_1 = }')\n",
    "print(f'{set_2 = }')\n",
    "\n",
    "intersection = set_1.intersection(set_2)\n",
    "\n",
    "print(f'\\n{intersection = }')\n",
    "\n",
    "set_1.difference_update(intersection)\n",
    "\n",
    "print(f'{set_1 = }')"
   ]
  },
  {
   "cell_type": "markdown",
   "id": "fb51eb68-b192-4338-9dc5-06a97b986596",
   "metadata": {},
   "source": [
    "### Exercise 7: Checks if one set is a subset or superset of another set. If found, delete all elements from that set"
   ]
  },
  {
   "cell_type": "code",
   "execution_count": 119,
   "id": "8f34640e-c227-405e-a384-a3b56d21aaf5",
   "metadata": {},
   "outputs": [
    {
     "name": "stdout",
     "output_type": "stream",
     "text": [
      "set_1 = {0, 2, 3, 5}\n",
      "set_2 = {0, 1, 2, 3, 4, 5}\n",
      "\n",
      "set_1_is_subset_of_set_2 = True\n",
      "set_2_is_subset_of_set_1 = False\n",
      "\n",
      "set_1 = set()\n",
      "set_2 = {0, 1, 2, 3, 4, 5}\n"
     ]
    }
   ],
   "source": [
    "set_1 = {random.randint(0, 5) for i in range(10)}\n",
    "set_2 = {random.randint(0, 5) for i in range(10)}\n",
    "\n",
    "print(f'{set_1 = }')\n",
    "print(f'{set_2 = }')\n",
    "\n",
    "set_1_is_subset_of_set_2 = set_1.issubset(set_2)\n",
    "set_2_is_subset_of_set_1 = set_2.issubset(set_1)\n",
    "\n",
    "if set_1_is_subset_of_set_2:\n",
    "    set_1.clear()\n",
    "    \n",
    "if set_2_is_subset_of_set_1:\n",
    "    set_2.clear()\n",
    "\n",
    "print(f'\\n{set_1_is_subset_of_set_2 = }')\n",
    "print(f'{set_2_is_subset_of_set_1 = }')\n",
    "\n",
    "print(f'\\n{set_1 = }')\n",
    "print(f'{set_2 = }')"
   ]
  },
  {
   "cell_type": "markdown",
   "id": "43a8b365-1e56-4681-a507-5d7b7dbb286c",
   "metadata": {},
   "source": [
    "### Exercise 10: Remove duplicates from a list and create a tuple and find the minimum and maximum number"
   ]
  },
  {
   "cell_type": "code",
   "execution_count": 120,
   "id": "ede04e5f-55aa-4124-a41d-b4260fd3153e",
   "metadata": {},
   "outputs": [
    {
     "name": "stdout",
     "output_type": "stream",
     "text": [
      "Original list:\n",
      "[5, 82, 21, 52, 25, 93, 19, 11, 65, 65, 21, 42, 40, 49, 39, 36, 89, 97, 68, 90]\n",
      "\n",
      "Unique items:\n",
      "[5, 82, 21, 52, 25, 93, 19, 11, 65, 42, 40, 49, 39, 36, 89, 97, 68, 90]\n",
      "\n",
      "min_number = 5\n",
      "max_number = 97\n"
     ]
    }
   ],
   "source": [
    "original_list = [random.randint(0, 100) for i in range(20)]\n",
    "\n",
    "print(f'Original list:\\n{original_list}')\n",
    "\n",
    "# How to remove duplicate items, while preserving order.\n",
    "# Source: https://stackoverflow.com/a/17016257\n",
    "unique_items = list(dict.fromkeys(original_list))\n",
    "\n",
    "## Or if it is not required to preserve the order.\n",
    "# unique_items = list(set(oririginal_list))\n",
    "\n",
    "\n",
    "print(f'\\nUnique items:\\n{unique_items}')\n",
    "\n",
    "min_number = min(unique_items)\n",
    "max_number = max(unique_items)\n",
    "\n",
    "print(f'\\n{min_number = }')\n",
    "print(f'{max_number = }')"
   ]
  }
 ],
 "metadata": {
  "kernelspec": {
   "display_name": "Python 3 (ipykernel)",
   "language": "python",
   "name": "python3"
  },
  "language_info": {
   "codemirror_mode": {
    "name": "ipython",
    "version": 3
   },
   "file_extension": ".py",
   "mimetype": "text/x-python",
   "name": "python",
   "nbconvert_exporter": "python",
   "pygments_lexer": "ipython3",
   "version": "3.10.6"
  }
 },
 "nbformat": 4,
 "nbformat_minor": 5
}
