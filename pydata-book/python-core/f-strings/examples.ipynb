{
 "cells": [
  {
   "cell_type": "markdown",
   "id": "33ea9d25-f619-4892-b13a-74ae1bb531d5",
   "metadata": {
    "tags": []
   },
   "source": [
    "### Different ways of formatting a string which uses data from a dict:\n"
   ]
  },
  {
   "cell_type": "markdown",
   "id": "91dcc280-8c9d-4174-91d8-68e8d0eea20b",
   "metadata": {},
   "source": [
    "#### Using `str.format()` method and dictionary unpacking:"
   ]
  },
  {
   "cell_type": "code",
   "execution_count": 76,
   "id": "eda5a4fb-a053-4dd5-9c3a-1c1b27d2f5fe",
   "metadata": {},
   "outputs": [
    {
     "name": "stdout",
     "output_type": "stream",
     "text": [
      "name: Karlos\n",
      "age: 20\n",
      "gender: M\n",
      "\n"
     ]
    }
   ],
   "source": [
    "person = {\n",
    "    'name': 'Karlos',\n",
    "    'age': 20,\n",
    "    'gender': 'M'\n",
    "}\n",
    "\n",
    "print(\"\"\"name: {name}\n",
    "age: {age}\n",
    "gender: {gender}\n",
    "\"\"\".format(**person))"
   ]
  },
  {
   "cell_type": "markdown",
   "id": "a4b57589-fedd-4d4b-94c1-09ca6cdc06a8",
   "metadata": {},
   "source": [
    "#### Using f-strings (formatted string literals): **Python 3.6+ only**"
   ]
  },
  {
   "cell_type": "code",
   "execution_count": 77,
   "id": "4e49fde8-c6b4-411d-836a-1f1f6feea0a7",
   "metadata": {},
   "outputs": [
    {
     "name": "stdout",
     "output_type": "stream",
     "text": [
      "name: Karlos\n",
      "age: 20\n",
      "gender: M\n",
      "\n"
     ]
    }
   ],
   "source": [
    "print(f\"\"\"name: {person['name']}\n",
    "age: {person['age']}\n",
    "gender: {person['gender']}\n",
    "\"\"\")"
   ]
  },
  {
   "cell_type": "markdown",
   "id": "a5ce2666-8946-49df-9cb7-a98a6e0a975d",
   "metadata": {},
   "source": [
    "##### Or:"
   ]
  },
  {
   "cell_type": "code",
   "execution_count": 78,
   "id": "d200eba6-ed8a-41bd-9117-31ce09514fea",
   "metadata": {},
   "outputs": [
    {
     "name": "stdout",
     "output_type": "stream",
     "text": [
      "name = 'Karlos'\n",
      "age = 20\n",
      "gender = 'M'\n",
      "\n"
     ]
    }
   ],
   "source": [
    "name = person['name']\n",
    "age = person['age']\n",
    "gender = person['gender']\n",
    "\n",
    "print(f\"\"\"{name = }\n",
    "{age = }\n",
    "{gender = }\n",
    "\"\"\")"
   ]
  },
  {
   "cell_type": "markdown",
   "id": "aebf6bdd-8e8c-4695-8c3c-741e7c7379fb",
   "metadata": {},
   "source": [
    "### Formatting numbers"
   ]
  },
  {
   "cell_type": "markdown",
   "id": "e743b54c-c28e-4dbb-8f96-140620177eb5",
   "metadata": {},
   "source": [
    "#### Formatting number notation"
   ]
  },
  {
   "cell_type": "code",
   "execution_count": 79,
   "id": "b965625c-1636-4503-97ab-cec847c12894",
   "metadata": {},
   "outputs": [
    {
     "name": "stdout",
     "output_type": "stream",
     "text": [
      "5806 in binary is 1011010101110\n",
      "5806 in octal is 13256\n",
      "5806 in hexadecimal is 16ae\n",
      "5806 in scientific notation is 5.806000e+03\n"
     ]
    }
   ],
   "source": [
    "import random\n",
    "import math\n",
    "\n",
    "number = random.randint(0, 10_000)\n",
    "\n",
    "print(f'{number} in binary is {number:b}')\n",
    "print(f'{number} in octal is {number:o}')\n",
    "print(f'{number} in hexadecimal is {number:x}')\n",
    "print(f'{number} in scientific notation is {number:e}')"
   ]
  },
  {
   "cell_type": "markdown",
   "id": "802a5c9e-ff3e-4c89-8514-083f1291b0b4",
   "metadata": {},
   "source": [
    "#### Printing floating point rounded to two decimal places"
   ]
  },
  {
   "cell_type": "code",
   "execution_count": 80,
   "id": "db8015f8-249e-45f0-820b-65b7c2bf9737",
   "metadata": {},
   "outputs": [
    {
     "name": "stdout",
     "output_type": "stream",
     "text": [
      "pi ≈ 3.14\n"
     ]
    }
   ],
   "source": [
    "print(f'pi ≈ {math.pi:.2f}')"
   ]
  },
  {
   "cell_type": "markdown",
   "id": "e8d2a8cb-9d22-44c5-bfe8-3a0f69ec0959",
   "metadata": {},
   "source": [
    "#### Using separator in large numbers"
   ]
  },
  {
   "cell_type": "code",
   "execution_count": 81,
   "id": "2254a6f8-a279-40a7-9cef-d098f9903208",
   "metadata": {},
   "outputs": [
    {
     "name": "stdout",
     "output_type": "stream",
     "text": [
      "random_big_number = 6,225,715,722\n",
      "random_big_number = 6_225_715_722\n"
     ]
    }
   ],
   "source": [
    "random_big_number = random.randint(10**8, 10**10)\n",
    "\n",
    "print(f'{random_big_number = :,}')\n",
    "print(f'{random_big_number = :_}')"
   ]
  },
  {
   "cell_type": "markdown",
   "id": "b4e4aac7-7a6a-4f3a-a127-1af7655e97d3",
   "metadata": {},
   "source": [
    "#### Printing number in percentage notation"
   ]
  },
  {
   "cell_type": "code",
   "execution_count": 82,
   "id": "2dd0e72a-0cd5-4457-b2fa-12c88d4f54e5",
   "metadata": {},
   "outputs": [
    {
     "name": "stdout",
     "output_type": "stream",
     "text": [
      "Random number in percentage notation is 98.216964%\n",
      "Random number in percentage notation rounded to two decimal places is 98.22%\n"
     ]
    }
   ],
   "source": [
    "random_number = random.random()\n",
    "\n",
    "print(f'Random number in percentage notation is {random_number:%}')\n",
    "print(f'Random number in percentage notation rounded to two decimal places is'\n",
    "      f' {random_number:.2%}')"
   ]
  },
  {
   "cell_type": "markdown",
   "id": "9b432919-e368-46bd-912f-cf58e0eb5974",
   "metadata": {},
   "source": [
    "### Alignment formatting"
   ]
  },
  {
   "cell_type": "markdown",
   "id": "3a2cb571-99c0-462c-bccc-32ecbdca71cb",
   "metadata": {},
   "source": [
    "#### Right number alignment with zeros totaling 10 characters\n"
   ]
  },
  {
   "cell_type": "code",
   "execution_count": 83,
   "id": "5ea76b53-5dd3-4f97-8c18-f3547ff3e34d",
   "metadata": {},
   "outputs": [
    {
     "name": "stdout",
     "output_type": "stream",
     "text": [
      "0000005806\n"
     ]
    }
   ],
   "source": [
    "print(f'{number:010}')"
   ]
  },
  {
   "cell_type": "markdown",
   "id": "fa59e597-b25f-4d85-a53c-bdf9c5a8b054",
   "metadata": {
    "tags": []
   },
   "source": [
    "#### Right number alignment without zeros totaling 10 characters"
   ]
  },
  {
   "cell_type": "code",
   "execution_count": 84,
   "id": "d8965374-4456-4412-8aed-10f3d4cd4f12",
   "metadata": {},
   "outputs": [
    {
     "name": "stdout",
     "output_type": "stream",
     "text": [
      "      5806\n"
     ]
    }
   ],
   "source": [
    "print(f'{number:>10}')"
   ]
  },
  {
   "cell_type": "markdown",
   "id": "9fa9ef9a-774d-44e2-81ee-b07a6b3327fb",
   "metadata": {},
   "source": [
    "#### Centre number alignment without zeros totaling 10 characters"
   ]
  },
  {
   "cell_type": "code",
   "execution_count": 85,
   "id": "55a5c12c-0473-441f-9d0d-022c70220467",
   "metadata": {},
   "outputs": [
    {
     "name": "stdout",
     "output_type": "stream",
     "text": [
      "   5806   \n"
     ]
    }
   ],
   "source": [
    "print(f'{number:^10}')"
   ]
  },
  {
   "cell_type": "markdown",
   "id": "ab4701da-cb99-456c-ac5b-74ac1ce2b2e0",
   "metadata": {},
   "source": [
    "#### Alignment defining the fill character"
   ]
  },
  {
   "cell_type": "code",
   "execution_count": 86,
   "id": "6c5a5b74-cac6-4bf4-96ca-2251bb3d7774",
   "metadata": {},
   "outputs": [
    {
     "name": "stdout",
     "output_type": "stream",
     "text": [
      "------HI-------\n",
      "______HI_______\n",
      "HI-------------\n",
      "-------------HI\n"
     ]
    }
   ],
   "source": [
    "print(f\"{'HI':-^15}\")\n",
    "print(f\"{'HI':_^15}\")\n",
    "\n",
    "print(f\"{'HI':-<15}\")\n",
    "print(f\"{'HI':->15}\")\n"
   ]
  },
  {
   "cell_type": "markdown",
   "id": "b2f744af-3188-4683-9728-9e39ea7c41c9",
   "metadata": {},
   "source": [
    "### Using f-strings with dataclasses"
   ]
  },
  {
   "cell_type": "markdown",
   "id": "f51517cb-7b9a-4fe5-8311-09489c87ce35",
   "metadata": {},
   "source": [
    "#### F-strings use the `__str__()` method by default, if that is not defined, then it uses the `__repr__()`"
   ]
  },
  {
   "cell_type": "code",
   "execution_count": 87,
   "id": "b584f5c4-80a1-488b-a5e5-c93c5418e649",
   "metadata": {},
   "outputs": [
    {
     "name": "stdout",
     "output_type": "stream",
     "text": [
      "User(first_name='Karlos', last_name='Silva')\n"
     ]
    }
   ],
   "source": [
    "from dataclasses import dataclass\n",
    "\n",
    "@dataclass\n",
    "class User:\n",
    "    first_name: str\n",
    "    last_name: str\n",
    "\n",
    "    \n",
    "user = User('Karlos', 'Silva')\n",
    "\n",
    "## The `__repr__()` method is implemented by default in dataclasses\n",
    "print(f'{user}')"
   ]
  },
  {
   "cell_type": "code",
   "execution_count": 88,
   "id": "5eb7edbe-e1d0-478b-ae3f-7382eb86dbad",
   "metadata": {},
   "outputs": [
    {
     "name": "stdout",
     "output_type": "stream",
     "text": [
      "Karlos Silva\n"
     ]
    }
   ],
   "source": [
    "@dataclass\n",
    "class User:\n",
    "    first_name: str\n",
    "    last_name: str\n",
    "    \n",
    "    def __str__(self) -> str:\n",
    "        return f'{self.first_name} {self.last_name}'\n",
    "\n",
    "user = User('Karlos', 'Silva')\n",
    "    \n",
    "print(f'{user}')"
   ]
  },
  {
   "cell_type": "markdown",
   "id": "9fdbbea4-ce46-457a-9ae7-045dcda78e0c",
   "metadata": {},
   "source": [
    "#### Forcing to use the `__repr__()` method by default"
   ]
  },
  {
   "cell_type": "code",
   "execution_count": 89,
   "id": "4c058054-8f33-439f-8f82-55791a21b3fd",
   "metadata": {},
   "outputs": [
    {
     "name": "stdout",
     "output_type": "stream",
     "text": [
      "User(first_name='Karlos', last_name='Silva')\n",
      "User(first_name='Karlos', last_name='Silva')\n"
     ]
    }
   ],
   "source": [
    "print(f'{user!r}')\n",
    "\n",
    "# Or:\n",
    "\n",
    "print(f'{repr(user)}')"
   ]
  },
  {
   "cell_type": "markdown",
   "id": "2a1f36e4-43d4-4068-8c0f-d77998cca891",
   "metadata": {},
   "source": [
    "### Formatting dates and times"
   ]
  },
  {
   "cell_type": "code",
   "execution_count": 7,
   "id": "424ce1c3-5bf1-476e-a392-17b9b306178b",
   "metadata": {},
   "outputs": [
    {
     "name": "stdout",
     "output_type": "stream",
     "text": [
      "2022-09-20 20:04:15.613899+00:00\n",
      "20:04\n",
      "20:04:15\n",
      "20:04:15\n",
      "\n",
      "22-09-20\n",
      "09/20/22\n",
      "20/09/2022\n",
      "\n",
      "Today is a Tuesday\n",
      "\n",
      "Today is Tuesday, September 20, 2022\n"
     ]
    }
   ],
   "source": [
    "import datetime\n",
    "\n",
    "## Current datetime in UTC+0\n",
    "now = datetime.datetime.now(datetime.timezone.utc)\n",
    "\n",
    "print(f'{now}')\n",
    "print(f'{now:%H:%M}')\n",
    "print(f'{now:%H:%M:%S}')\n",
    "print(f'{now:%T}\\n')\n",
    "\n",
    "print(f'{now:%y-%m-%d}')\n",
    "print(f'{now:%D}')\n",
    "print(f'{now:%d/%m/%Y}\\n')\n",
    "\n",
    "print(f'Today is a {now:%A}\\n')\n",
    "\n",
    "print(f'Today is {now:%A, %B %d, %Y}')"
   ]
  },
  {
   "cell_type": "markdown",
   "id": "fd49e219-340d-4762-9074-3dc23a520bbc",
   "metadata": {},
   "source": [
    "### Printing variables for debugging purposes"
   ]
  },
  {
   "cell_type": "code",
   "execution_count": 91,
   "id": "0ee4abbf-a985-46d7-b723-17e59b04c4f8",
   "metadata": {},
   "outputs": [
    {
     "name": "stdout",
     "output_type": "stream",
     "text": [
      "x = 10\n",
      "y = 20\n"
     ]
    }
   ],
   "source": [
    "x = 10\n",
    "y = 20\n",
    "\n",
    "print(f'{x = }\\n{y = }')"
   ]
  },
  {
   "cell_type": "markdown",
   "id": "e30d9bcb-a609-49cc-9964-9946584a29da",
   "metadata": {},
   "source": [
    "### Source: [ArianCodes F-strings In Python: Everything You Need To Know](https://youtu.be/Mfmr_Puhtew)"
   ]
  }
 ],
 "metadata": {
  "kernelspec": {
   "display_name": "Python 3 (ipykernel)",
   "language": "python",
   "name": "python3"
  },
  "language_info": {
   "codemirror_mode": {
    "name": "ipython",
    "version": 3
   },
   "file_extension": ".py",
   "mimetype": "text/x-python",
   "name": "python",
   "nbconvert_exporter": "python",
   "pygments_lexer": "ipython3",
   "version": "3.10.6"
  },
  "vscode": {
   "interpreter": {
    "hash": "f479aef4171c4ae67573cf990cfd80854b5a421e02073ee64f273d9c55c41ffd"
   }
  }
 },
 "nbformat": 4,
 "nbformat_minor": 5
}
