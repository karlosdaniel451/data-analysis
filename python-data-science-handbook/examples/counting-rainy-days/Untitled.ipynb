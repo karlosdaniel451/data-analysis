{
 "cells": [
  {
   "cell_type": "code",
   "execution_count": 6,
   "id": "6bb98fe8-be13-4a34-ac57-88f1ebf72ef7",
   "metadata": {},
   "outputs": [
    {
     "data": {
      "text/plain": [
       "(365,)"
      ]
     },
     "execution_count": 6,
     "metadata": {},
     "output_type": "execute_result"
    }
   ],
   "source": [
    "import numpy as np\n",
    "import pandas as pd\n",
    "\n",
    "data = pd.read_csv('data/Seattle2014.csv')\n",
    "\n",
    "rainfall = data['PRCP'].values\n",
    "inches = rainfall / 254\n",
    "rainfall.shape"
   ]
  },
  {
   "cell_type": "code",
   "execution_count": 7,
   "id": "70602b90-f322-4dd6-8f26-9394c5f7a80d",
   "metadata": {},
   "outputs": [
    {
     "data": {
      "image/png": "[encoded data removed]",
      "text/plain": [
       "<Figure size 432x288 with 1 Axes>"
      ]
     },
     "metadata": {},
     "output_type": "display_data"
    }
   ],
   "source": [
    "%matplotlib inline\n",
    "import matplotlib.pyplot as plt\n",
    "import seaborn; seaborn.set()  # set plot styles\n",
    "\n",
    "plt.hist(inches, 40);"
   ]
  },
  {
   "cell_type": "code",
   "execution_count": 8,
   "id": "7bb3b9de-edf1-4cda-8303-bdc7971f4d48",
   "metadata": {},
   "outputs": [
    {
     "name": "stdout",
     "output_type": "stream",
     "text": [
      "Number of days without rain: 215\n",
      "Number of days with rain: 150\n",
      "Number of days with more than 0.5 inches: 37\n",
      "Number of rainy days wwith less than 0.1 inches: 46\n"
     ]
    }
   ],
   "source": [
    "print(f'Number of days without rain: {np.sum(inches == 0)}')\n",
    "print(f'Number of days with rain: {np.sum(inches > 0)}')\n",
    "print(f'Number of days with more than 0.5 inches: {np.sum(inches > 0.5)}')\n",
    "print(f'Number of rainy days wwith less than 0.1 inches: {np.sum((inches > 0) & (inches < 0.1))}')"
   ]
  },
  {
   "cell_type": "code",
   "execution_count": 17,
   "id": "c6cffe5b-4c02-4271-aaf3-609b8c2588f7",
   "metadata": {},
   "outputs": [
    {
     "name": "stdout",
     "output_type": "stream",
     "text": [
      "Median precipitation on rainy days (inches): 0.19\n",
      "Median precipitation on summer days (inches): 0.00\n",
      "Maximum precipitation on summer days (inches): 0.85\n",
      "Median precipitation on non-rainy rainy days (inches): 0.20\n"
     ]
    }
   ],
   "source": [
    "# construct a mask of all rainy days\n",
    "rainy = (inches > 0)\n",
    "\n",
    "# construct a mask of all summer days (June 21st is the 172nd day)\n",
    "summer = (np.arange(365) - 175 < 90) & (np.arange(365) - 172 > 0)\n",
    "\n",
    "print(f'Median precipitation on rainy days (inches): {np.median(inches[rainy]):.2f}')\n",
    "print(f'Median precipitation on summer days (inches): {np.median(inches[summer]):.2f}')\n",
    "print(f'Maximum precipitation on summer days (inches): {np.max(inches[summer]):.2f}')\n",
    "print(f'Median precipitation on non-rainy rainy days (inches): {np.median(inches[rainy & ~summer]):.2f}')"
   ]
  },
  {
   "cell_type": "code",
   "execution_count": 43,
   "id": "08469d4e-2fce-4545-bcf1-1fbfe38ff018",
   "metadata": {},
   "outputs": [
    {
     "name": "stdout",
     "output_type": "stream",
     "text": [
      "Average precipitation (inches): 0.13\n",
      "Standard deviation: 0.27\n",
      "Maximum precipitation (inches): 1.84\n",
      "\n",
      "25th percentile: 0.0\n",
      "Median (50th percentile): 0.0\n",
      "75th percentile: 0.14\n"
     ]
    }
   ],
   "source": [
    "print(f'Average precipitation (inches): {inches.mean():.2f}')\n",
    "print(f'Standard deviation: {inches.std():.2f}')\n",
    "print(f'Maximum precipitation (inches): {inches.max():.2f}\\n')\n",
    "\n",
    "print(f'25th percentile: {np.percentile(inches, 25)}')\n",
    "print(f'Median (50th percentile): {np.median(inches)}')\n",
    "print(f'75th percentile: {np.percentile(inches, 75):.2f}')"
   ]
  },
  {
   "cell_type": "code",
   "execution_count": 44,
   "id": "6ffad482-67f5-47aa-9c65-e4e5256e9bf4",
   "metadata": {},
   "outputs": [
    {
     "name": "stdout",
     "output_type": "stream",
     "text": [
      "Percentage of days with rain (any precipitation): 41.10%\n",
      "Percentage of days with rain (any precipitation): 58.90%\n"
     ]
    }
   ],
   "source": [
    "print('Percentage of days with rain (any precipitation):'\n",
    "     f' {inches[rainy].size / inches.size:.2%}')\n",
    "\n",
    "print('Percentage of days with rain (any precipitation):'\n",
    "     f' {inches[~rainy].size / inches.size:.2%}')"
   ]
  }
 ],
 "metadata": {
  "kernelspec": {
   "display_name": "Python 3 (ipykernel)",
   "language": "python",
   "name": "python3"
  },
  "language_info": {
   "codemirror_mode": {
    "name": "ipython",
    "version": 3
   },
   "file_extension": ".py",
   "mimetype": "text/x-python",
   "name": "python",
   "nbconvert_exporter": "python",
   "pygments_lexer": "ipython3",
   "version": "3.10.6"
  }
 },
 "nbformat": 4,
 "nbformat_minor": 5
}
